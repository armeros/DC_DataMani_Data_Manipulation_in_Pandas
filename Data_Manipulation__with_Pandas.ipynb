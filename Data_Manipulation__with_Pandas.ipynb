{
  "nbformat": 4,
  "nbformat_minor": 0,
  "metadata": {
    "colab": {
      "name": "Data_Manipulation__with_Pandas",
      "provenance": [],
      "collapsed_sections": []
    },
    "kernelspec": {
      "name": "python3",
      "display_name": "Python 3"
    },
    "language_info": {
      "name": "python"
    }
  },
  "cells": [
    {
      "cell_type": "markdown",
      "metadata": {
        "id": "HlGQRayv2P7C"
      },
      "source": [
        "# **Inspecting a DataFrame**\n",
        "\n",
        "When you get a new DataFrame to work with, the first thing you need to do is explore it and see what it contains. There are several useful methods and attributes for this.\n",
        "\n",
        "* `.head()` returns the first few rows (the “head” of the DataFrame).\n",
        "* `.info()` shows information on each of the columns, such as the data type and number of missing values.\n",
        "* `.shape` returns the number of rows and columns of the DataFrame.\n",
        "* `.describe()` calculates a few summary statistics for each column.\n",
        "\n",
        "`homelessness` is a DataFrame containing estimates of homelessness in each U.S. state in 2018. The `individual` column is the number of homeless individuals not part of a family with children. The `family_members column` is the number of homeless individuals part of a family with children. The `state_pop` column is the state's total population.\n",
        "\n",
        "* Print the head of the `homelessness` DataFrame.\n",
        "* Print information about the column types and missing values in `homelessness`.\n",
        "* Print the number of rows and columns in `homelessness`.\n",
        "* Print some summary statistics that describe the `homelessness` DataFrame."
      ]
    },
    {
      "cell_type": "code",
      "metadata": {
        "id": "1g5hIaeWvgwk",
        "colab": {
          "base_uri": "https://localhost:8080/"
        },
        "outputId": "9c96b9d9-5648-4c75-8743-32d55b89fc28"
      },
      "source": [
        "import pandas as pd\n",
        "\n",
        "homelessness = pd.read_csv(\"homelessness.csv\", index_col=[0])\n",
        "\n",
        "# Print the head of the homelessness data\n",
        "print(homelessness.head())\n",
        "\n",
        "# Print information about homelessness\n",
        "print(homelessness.info())\n",
        "\n",
        "# Print the shape of homelessness\n",
        "print(homelessness.shape)\n",
        "\n",
        "# Print a description of homelessness\n",
        "print(homelessness.describe())\n"
      ],
      "execution_count": 5,
      "outputs": [
        {
          "output_type": "stream",
          "name": "stdout",
          "text": [
            "               region       state  individuals  family_members  state_pop\n",
            "0  East South Central     Alabama       2570.0           864.0    4887681\n",
            "1             Pacific      Alaska       1434.0           582.0     735139\n",
            "2            Mountain     Arizona       7259.0          2606.0    7158024\n",
            "3  West South Central    Arkansas       2280.0           432.0    3009733\n",
            "4             Pacific  California     109008.0         20964.0   39461588\n",
            "<class 'pandas.core.frame.DataFrame'>\n",
            "Int64Index: 51 entries, 0 to 50\n",
            "Data columns (total 5 columns):\n",
            " #   Column          Non-Null Count  Dtype  \n",
            "---  ------          --------------  -----  \n",
            " 0   region          51 non-null     object \n",
            " 1   state           51 non-null     object \n",
            " 2   individuals     51 non-null     float64\n",
            " 3   family_members  51 non-null     float64\n",
            " 4   state_pop       51 non-null     int64  \n",
            "dtypes: float64(2), int64(1), object(2)\n",
            "memory usage: 2.4+ KB\n",
            "None\n",
            "(51, 5)\n",
            "         individuals  family_members     state_pop\n",
            "count      51.000000       51.000000  5.100000e+01\n",
            "mean     7225.784314     3504.882353  6.405637e+06\n",
            "std     15991.025083     7805.411811  7.327258e+06\n",
            "min       434.000000       75.000000  5.776010e+05\n",
            "25%      1446.500000      592.000000  1.777414e+06\n",
            "50%      3082.000000     1482.000000  4.461153e+06\n",
            "75%      6781.500000     3196.000000  7.340946e+06\n",
            "max    109008.000000    52070.000000  3.946159e+07\n"
          ]
        }
      ]
    },
    {
      "cell_type": "markdown",
      "metadata": {
        "id": "R-ycHJ4339sk"
      },
      "source": [
        "# **Parts of a DataFrame** \n",
        "\n",
        "To better understand DataFrame objects, it's useful to know that they consist of three components, stored as attributes:\n",
        "\n",
        "* `.values`: A two-dimensional NumPy array of values.\n",
        "* `.columns`: An index of columns: the column names.\n",
        "* `.index`: An index for the rows: either row numbers or row names.\n",
        "\n",
        "You can usually think of indexes as a list of strings or numbers, though the pandas `Index` data type allows for more sophisticated options. (These will be covered later in the course.)\n",
        "\n",
        "* Import `pandas` using the alias `pd`.\n",
        "* Print a 2D NumPy array of the values in `homelessness`.\n",
        "* Print the column names of `homelessness`.\n",
        "* Print the `index` of homelessness."
      ]
    },
    {
      "cell_type": "code",
      "metadata": {
        "colab": {
          "base_uri": "https://localhost:8080/"
        },
        "id": "Jv5XmBoL3LMf",
        "outputId": "a915de34-ad91-4bda-b09c-438edeb35f45"
      },
      "source": [
        "import pandas as pd\n",
        "\n",
        "homelessness = pd.read_csv(\"homelessness.csv\", index_col=[0])\n",
        "\n",
        "# Print the values of homelessness\n",
        "print(homelessness.values)\n",
        "\n",
        "# Print the column index of homelessness\n",
        "print(homelessness.columns)\n",
        "\n",
        "# Print the row index of homelessness\n",
        "print(homelessness.index)"
      ],
      "execution_count": 6,
      "outputs": [
        {
          "output_type": "stream",
          "name": "stdout",
          "text": [
            "[['East South Central' 'Alabama' 2570.0 864.0 4887681]\n",
            " ['Pacific' 'Alaska' 1434.0 582.0 735139]\n",
            " ['Mountain' 'Arizona' 7259.0 2606.0 7158024]\n",
            " ['West South Central' 'Arkansas' 2280.0 432.0 3009733]\n",
            " ['Pacific' 'California' 109008.0 20964.0 39461588]\n",
            " ['Mountain' 'Colorado' 7607.0 3250.0 5691287]\n",
            " ['New England' 'Connecticut' 2280.0 1696.0 3571520]\n",
            " ['South Atlantic' 'Delaware' 708.0 374.0 965479]\n",
            " ['South Atlantic' 'District of Columbia' 3770.0 3134.0 701547]\n",
            " ['South Atlantic' 'Florida' 21443.0 9587.0 21244317]\n",
            " ['South Atlantic' 'Georgia' 6943.0 2556.0 10511131]\n",
            " ['Pacific' 'Hawaii' 4131.0 2399.0 1420593]\n",
            " ['Mountain' 'Idaho' 1297.0 715.0 1750536]\n",
            " ['East North Central' 'Illinois' 6752.0 3891.0 12723071]\n",
            " ['East North Central' 'Indiana' 3776.0 1482.0 6695497]\n",
            " ['West North Central' 'Iowa' 1711.0 1038.0 3148618]\n",
            " ['West North Central' 'Kansas' 1443.0 773.0 2911359]\n",
            " ['East South Central' 'Kentucky' 2735.0 953.0 4461153]\n",
            " ['West South Central' 'Louisiana' 2540.0 519.0 4659690]\n",
            " ['New England' 'Maine' 1450.0 1066.0 1339057]\n",
            " ['South Atlantic' 'Maryland' 4914.0 2230.0 6035802]\n",
            " ['New England' 'Massachusetts' 6811.0 13257.0 6882635]\n",
            " ['East North Central' 'Michigan' 5209.0 3142.0 9984072]\n",
            " ['West North Central' 'Minnesota' 3993.0 3250.0 5606249]\n",
            " ['East South Central' 'Mississippi' 1024.0 328.0 2981020]\n",
            " ['West North Central' 'Missouri' 3776.0 2107.0 6121623]\n",
            " ['Mountain' 'Montana' 983.0 422.0 1060665]\n",
            " ['West North Central' 'Nebraska' 1745.0 676.0 1925614]\n",
            " ['Mountain' 'Nevada' 7058.0 486.0 3027341]\n",
            " ['New England' 'New Hampshire' 835.0 615.0 1353465]\n",
            " ['Mid-Atlantic' 'New Jersey' 6048.0 3350.0 8886025]\n",
            " ['Mountain' 'New Mexico' 1949.0 602.0 2092741]\n",
            " ['Mid-Atlantic' 'New York' 39827.0 52070.0 19530351]\n",
            " ['South Atlantic' 'North Carolina' 6451.0 2817.0 10381615]\n",
            " ['West North Central' 'North Dakota' 467.0 75.0 758080]\n",
            " ['East North Central' 'Ohio' 6929.0 3320.0 11676341]\n",
            " ['West South Central' 'Oklahoma' 2823.0 1048.0 3940235]\n",
            " ['Pacific' 'Oregon' 11139.0 3337.0 4181886]\n",
            " ['Mid-Atlantic' 'Pennsylvania' 8163.0 5349.0 12800922]\n",
            " ['New England' 'Rhode Island' 747.0 354.0 1058287]\n",
            " ['South Atlantic' 'South Carolina' 3082.0 851.0 5084156]\n",
            " ['West North Central' 'South Dakota' 836.0 323.0 878698]\n",
            " ['East South Central' 'Tennessee' 6139.0 1744.0 6771631]\n",
            " ['West South Central' 'Texas' 19199.0 6111.0 28628666]\n",
            " ['Mountain' 'Utah' 1904.0 972.0 3153550]\n",
            " ['New England' 'Vermont' 780.0 511.0 624358]\n",
            " ['South Atlantic' 'Virginia' 3928.0 2047.0 8501286]\n",
            " ['Pacific' 'Washington' 16424.0 5880.0 7523869]\n",
            " ['South Atlantic' 'West Virginia' 1021.0 222.0 1804291]\n",
            " ['East North Central' 'Wisconsin' 2740.0 2167.0 5807406]\n",
            " ['Mountain' 'Wyoming' 434.0 205.0 577601]]\n",
            "Index(['region', 'state', 'individuals', 'family_members', 'state_pop'], dtype='object')\n",
            "Int64Index([ 0,  1,  2,  3,  4,  5,  6,  7,  8,  9, 10, 11, 12, 13, 14, 15, 16,\n",
            "            17, 18, 19, 20, 21, 22, 23, 24, 25, 26, 27, 28, 29, 30, 31, 32, 33,\n",
            "            34, 35, 36, 37, 38, 39, 40, 41, 42, 43, 44, 45, 46, 47, 48, 49,\n",
            "            50],\n",
            "           dtype='int64')\n"
          ]
        }
      ]
    },
    {
      "cell_type": "markdown",
      "metadata": {
        "id": "rSJymZxz6WH2"
      },
      "source": [
        "# **Sorting rows**\n",
        "\n",
        "Finding interesting bits of data in a DataFrame is often easier if you change the order of the rows. You can sort the rows by passing a column name to `.sort_values()`.\n",
        "\n",
        "In cases where rows have the same value (this is common if you sort on a categorical variable), you may wish to break the ties by sorting on another column. You can sort on multiple columns in this way by passing a list of column names.\n",
        "\n",
        "Sort on …\tSyntax\n",
        "* one column\t`df.sort_values(\"breed\")`\n",
        "* multiple columns\t`df.sort_values([\"breed\", \"weight_kg\"])`\n",
        "\n",
        "By combining `.sort_values()` with `.head()`, you can answer questions in the form, \"What are the top cases where…?\".\n",
        "\n",
        "1.  Sort `homelessness` by the number of homeless individuals, from smallest to largest, and save this as `homelessness_ind`.\n",
        "2.  Sort `homelessness` by the number of homeless `family_members` in descending order, and save this as `homelessness_fam`.\n",
        "3. Sort `homelessness` first by `region` (ascending), and then by number of family members (descending). Save this as `homelessness_reg_fam`.\n"
      ]
    },
    {
      "cell_type": "code",
      "metadata": {
        "colab": {
          "base_uri": "https://localhost:8080/"
        },
        "id": "zSagOIhL4vVT",
        "outputId": "d57ebf2c-186b-423b-c61f-f5c368097ca3"
      },
      "source": [
        "import pandas as pd\n",
        "\n",
        "homelessness = pd.read_csv(\"homelessness.csv\", index_col=[0])\n",
        "\n",
        "# Sort homelessness by individual\n",
        "homelessness_ind = homelessness.sort_values(by=\"individuals\")\n",
        "\n",
        "# Print the top few rows\n",
        "print(homelessness_ind.head(), \"\\n\\n\")\n",
        "\n",
        "# Sort homelessness by descending family members\n",
        "homelessness_fam = homelessness.sort_values(by=\"family_members\", ascending=False)\n",
        "\n",
        "# Print the top few rows\n",
        "print(homelessness_fam.head(), \"\\n\\n\")\n",
        "\n",
        "# Sort homelessness by region, then descending family members\n",
        "homelessness_reg_fam = homelessness.sort_values(by=[\"region\", \"family_members\"], ascending=[True, False])\n",
        "# Print the top few rows\n",
        "print(homelessness_reg_fam.head())  "
      ],
      "execution_count": 8,
      "outputs": [
        {
          "output_type": "stream",
          "name": "stdout",
          "text": [
            "                region         state  individuals  family_members  state_pop\n",
            "50            Mountain       Wyoming        434.0           205.0     577601\n",
            "34  West North Central  North Dakota        467.0            75.0     758080\n",
            "7       South Atlantic      Delaware        708.0           374.0     965479\n",
            "39         New England  Rhode Island        747.0           354.0    1058287\n",
            "45         New England       Vermont        780.0           511.0     624358 \n",
            "\n",
            "\n",
            "                region          state  individuals  family_members  state_pop\n",
            "32        Mid-Atlantic       New York      39827.0         52070.0   19530351\n",
            "4              Pacific     California     109008.0         20964.0   39461588\n",
            "21         New England  Massachusetts       6811.0         13257.0    6882635\n",
            "9       South Atlantic        Florida      21443.0          9587.0   21244317\n",
            "43  West South Central          Texas      19199.0          6111.0   28628666 \n",
            "\n",
            "\n",
            "                region      state  individuals  family_members  state_pop\n",
            "13  East North Central   Illinois       6752.0          3891.0   12723071\n",
            "35  East North Central       Ohio       6929.0          3320.0   11676341\n",
            "22  East North Central   Michigan       5209.0          3142.0    9984072\n",
            "49  East North Central  Wisconsin       2740.0          2167.0    5807406\n",
            "14  East North Central    Indiana       3776.0          1482.0    6695497\n"
          ]
        }
      ]
    },
    {
      "cell_type": "markdown",
      "metadata": {
        "id": "cOXuviRc8yrz"
      },
      "source": [
        "# **Subsetting columns**\n",
        "\n",
        "When working with data, you may not need all of the variables in your dataset. Square brackets (`[]`) can be used to select only the columns that matter to you in an order that makes sense to you. To select only \"`col_a`\" of the DataFrame `df`, use\n",
        "\n",
        "`df[\"col_a\"]`\n",
        "\n",
        "To select `\"col_a\"` and `\"col_b\"` of `df`, use\n",
        "\n",
        "`df[[\"col_a\", \"col_b\"]]`\n",
        "\n",
        "* Create a DataFrame called `individuals` that contains only the `individuals` column of `homelessness`.\n",
        "\n",
        "* Create a DataFrame called `state_fam` that contains only the state and `family_members` columns of `homelessness`, in that order.\n",
        "\n",
        "* Create a DataFrame called `ind_state` that contains the `individuals` and `state` columns of `homelessness`, in that order.\n"
      ]
    },
    {
      "cell_type": "code",
      "metadata": {
        "colab": {
          "base_uri": "https://localhost:8080/"
        },
        "id": "denrcYgo8sc2",
        "outputId": "c2c6f51b-bfb2-4b63-9bf1-c4f7625a470d"
      },
      "source": [
        "import pandas as pd\n",
        "\n",
        "homelessness = pd.read_csv(\"homelessness.csv\", index_col=[0])\n",
        "\n",
        "# Select the individuals column\n",
        "individuals = homelessness[[\"individuals\"]]\n",
        "\n",
        "# Print the head of the result\n",
        "print(individuals.head(), \"\\n\\n\")\n",
        "\n",
        "# Select the state and family_members columns\n",
        "state_fam = homelessness[[\"state\", \"family_members\"]]\n",
        "\n",
        "# Print the head of the result\n",
        "print(state_fam.head(), \"\\n\\n\")\n",
        "\n",
        "# Select only the individuals and state columns, in that order\n",
        "ind_state = homelessness[[\"individuals\", \"state\"]]\n",
        "\n",
        "# Print the head of the result\n",
        "print(ind_state.head())  "
      ],
      "execution_count": 9,
      "outputs": [
        {
          "output_type": "stream",
          "name": "stdout",
          "text": [
            "   individuals\n",
            "0       2570.0\n",
            "1       1434.0\n",
            "2       7259.0\n",
            "3       2280.0\n",
            "4     109008.0 \n",
            "\n",
            "\n",
            "        state  family_members\n",
            "0     Alabama           864.0\n",
            "1      Alaska           582.0\n",
            "2     Arizona          2606.0\n",
            "3    Arkansas           432.0\n",
            "4  California         20964.0 \n",
            "\n",
            "\n",
            "   individuals       state\n",
            "0       2570.0     Alabama\n",
            "1       1434.0      Alaska\n",
            "2       7259.0     Arizona\n",
            "3       2280.0    Arkansas\n",
            "4     109008.0  California\n"
          ]
        }
      ]
    },
    {
      "cell_type": "markdown",
      "metadata": {
        "id": "nkolKjbX-j3R"
      },
      "source": [
        "# **Subsetting rows**\n",
        "\n",
        "A large part of data science is about finding which bits of your dataset are interesting. One of the simplest techniques for this is to find a subset of rows that match some criteria. This is sometimes known as ***filtering rows*** or ***selecting rows***.\n",
        "\n",
        "There are many ways to subset a DataFrame, perhaps the most common is to use relational operators to return `True` or `False` for each row, then pass that inside square brackets.\n",
        "\n",
        "```\n",
        "dogs[dogs[\"height_cm\"] > 60]\n",
        "dogs[dogs[\"color\"] == \"tan\"]\n",
        "```\n",
        "\n",
        "You can filter for multiple conditions at once by using the \"bitwise and\" operator, `&`.\n",
        "\n",
        "```\n",
        "dogs[(dogs[\"height_cm\"] > 60) & (dogs[\"color\"] == \"tan\")]\n",
        "```\n",
        "\n",
        "* Filter `homelessness` for cases where the number of `individuals` is greater than ten thousand, assigning to `ind_gt_10k`. View the printed result.\n",
        "\n",
        "* Filter `homelessness` for cases where the USA Census region is `\"Mountain\"`, assigning to `mountain_reg`. View the printed result.\n",
        "\n",
        "* Filter `homelessness` for cases where the number of `family_members` is less than one thousand and the `region` is `\"Pacific\"`, assigning to fam_lt_1k_pac. "
      ]
    },
    {
      "cell_type": "code",
      "metadata": {
        "colab": {
          "base_uri": "https://localhost:8080/"
        },
        "id": "hNCeGfjr-eYe",
        "outputId": "0cbfd960-6498-44c2-f437-9b24e87279fc"
      },
      "source": [
        "import pandas as pd\n",
        "\n",
        "homelessness = pd.read_csv(\"homelessness.csv\", index_col=[0])\n",
        "\n",
        "# Filter for rows where individuals is greater than 10000\n",
        "ind_gt_10k = homelessness[homelessness[\"individuals\"] > 10000]\n",
        "\n",
        "# See the result\n",
        "print(ind_gt_10k, \"\\n\\n\")\n",
        "\n",
        "# Filter for rows where region is Mountain\n",
        "mountain_reg = homelessness[homelessness[\"region\"]==\"Mountain\"]\n",
        "\n",
        "# See the result\n",
        "print(mountain_reg, \"\\n\\n\")\n",
        "\n",
        "# Filter for rows where family_members is less than 1000 \n",
        "# and region is Pacific\n",
        "fam_lt_1k_pac = homelessness[(homelessness[\"family_members\"] < 1000) & (homelessness[\"region\"]==\"Pacific\")]\n",
        "# See the result\n",
        "print(fam_lt_1k_pac)"
      ],
      "execution_count": 11,
      "outputs": [
        {
          "output_type": "stream",
          "name": "stdout",
          "text": [
            "                region       state  individuals  family_members  state_pop\n",
            "4              Pacific  California     109008.0         20964.0   39461588\n",
            "9       South Atlantic     Florida      21443.0          9587.0   21244317\n",
            "32        Mid-Atlantic    New York      39827.0         52070.0   19530351\n",
            "37             Pacific      Oregon      11139.0          3337.0    4181886\n",
            "43  West South Central       Texas      19199.0          6111.0   28628666\n",
            "47             Pacific  Washington      16424.0          5880.0    7523869 \n",
            "\n",
            "\n",
            "      region       state  individuals  family_members  state_pop\n",
            "2   Mountain     Arizona       7259.0          2606.0    7158024\n",
            "5   Mountain    Colorado       7607.0          3250.0    5691287\n",
            "12  Mountain       Idaho       1297.0           715.0    1750536\n",
            "26  Mountain     Montana        983.0           422.0    1060665\n",
            "28  Mountain      Nevada       7058.0           486.0    3027341\n",
            "31  Mountain  New Mexico       1949.0           602.0    2092741\n",
            "44  Mountain        Utah       1904.0           972.0    3153550\n",
            "50  Mountain     Wyoming        434.0           205.0     577601 \n",
            "\n",
            "\n",
            "    region   state  individuals  family_members  state_pop\n",
            "1  Pacific  Alaska       1434.0           582.0     735139\n"
          ]
        }
      ]
    },
    {
      "cell_type": "markdown",
      "metadata": {
        "id": "w8W01BEqAf3N"
      },
      "source": [
        "# **Subsetting rows by categorical variables**\n",
        "\n",
        "Subsetting data based on a categorical variable often involves using the \"or\" operator (`|`) to select rows from multiple categories. This can get tedious when you want all states in one of three different regions, for example. Instead, use the `.isin()` method, which will allow you to tackle this problem by writing one condition instead of three separate ones.\n",
        "\n",
        "```\n",
        "colors = [\"brown\", \"black\", \"tan\"]\n",
        "condition = dogs[\"color\"].isin(colors)\n",
        "dogs[condition]\n",
        "```\n",
        "\n",
        "* Filter `omelessness` for cases where the USA census `region` is `\"South Atlantic\"` or it is `\"Mid-Atlantic\"`, assigning to `south_mid_atlantic`. View the printed result.\n",
        "\n",
        "* Filter `homelessness` for cases where the USA census `state` is in the list of Mojave states, `canu`, assigning to mojave_homelessness. View the printed result."
      ]
    },
    {
      "cell_type": "code",
      "metadata": {
        "colab": {
          "base_uri": "https://localhost:8080/"
        },
        "id": "xhIioS0U_h36",
        "outputId": "c542d856-5d00-4f98-d7a3-74a5bcf9bc51"
      },
      "source": [
        "import pandas as pd\n",
        "\n",
        "homelessness = pd.read_csv(\"homelessness.csv\", index_col=[0])\n",
        "\n",
        "# Subset for rows in South Atlantic or Mid-Atlantic regions\n",
        "south_mid_atlantic = homelessness[homelessness[\"region\"].isin([\"South Atlantic\", \"Mid-Atlantic\"])]\n",
        "# See the result\n",
        "print(south_mid_atlantic,\"\\n\\n\")\n",
        "\n",
        "# The Mojave Desert states\n",
        "canu = [\"California\", \"Arizona\", \"Nevada\", \"Utah\"]\n",
        "\n",
        "# Filter for rows in the Mojave Desert states\n",
        "mojave_homelessness = homelessness[homelessness[\"state\"].isin(canu)]\n",
        "\n",
        "# See the result\n",
        "print(mojave_homelessness)"
      ],
      "execution_count": 12,
      "outputs": [
        {
          "output_type": "stream",
          "name": "stdout",
          "text": [
            "            region                 state  ...  family_members  state_pop\n",
            "7   South Atlantic              Delaware  ...           374.0     965479\n",
            "8   South Atlantic  District of Columbia  ...          3134.0     701547\n",
            "9   South Atlantic               Florida  ...          9587.0   21244317\n",
            "10  South Atlantic               Georgia  ...          2556.0   10511131\n",
            "20  South Atlantic              Maryland  ...          2230.0    6035802\n",
            "30    Mid-Atlantic            New Jersey  ...          3350.0    8886025\n",
            "32    Mid-Atlantic              New York  ...         52070.0   19530351\n",
            "33  South Atlantic        North Carolina  ...          2817.0   10381615\n",
            "38    Mid-Atlantic          Pennsylvania  ...          5349.0   12800922\n",
            "40  South Atlantic        South Carolina  ...           851.0    5084156\n",
            "46  South Atlantic              Virginia  ...          2047.0    8501286\n",
            "48  South Atlantic         West Virginia  ...           222.0    1804291\n",
            "\n",
            "[12 rows x 5 columns] \n",
            "\n",
            "\n",
            "      region       state  individuals  family_members  state_pop\n",
            "2   Mountain     Arizona       7259.0          2606.0    7158024\n",
            "4    Pacific  California     109008.0         20964.0   39461588\n",
            "28  Mountain      Nevada       7058.0           486.0    3027341\n",
            "44  Mountain        Utah       1904.0           972.0    3153550\n"
          ]
        }
      ]
    },
    {
      "cell_type": "markdown",
      "metadata": {
        "id": "ZBIiaUB1GjIB"
      },
      "source": [
        "# **Adding new columns**\n",
        "\n",
        "You aren't stuck with just the data you are given. Instead, you can add new columns to a DataFrame. This has many names, such as transforming, mutating, and ***feature engineering***.\n",
        "\n",
        "You can create new columns from scratch, but it is also common to derive them from other columns, for example, by adding columns together or by changing their units.\n",
        "\n",
        "* Add a new column to `homelessness`, named `total`, containing the sum of the `individuals` and `family_members` columns.\n",
        "* Add another column to `homelessness`, named `p_individuals`, containing the proportion of homeless people in each state who are `individuals`."
      ]
    },
    {
      "cell_type": "code",
      "metadata": {
        "colab": {
          "base_uri": "https://localhost:8080/"
        },
        "id": "xZ-41NAZBpvs",
        "outputId": "b82a54fb-a9db-43dc-c204-6704fa626182"
      },
      "source": [
        "import pandas as pd\n",
        "\n",
        "homelessness = pd.read_csv(\"homelessness.csv\", index_col=[0])\n",
        "\n",
        "# Add total col as sum of individuals and family_members\n",
        "homelessness[\"total\"] = homelessness[\"individuals\"] + homelessness[\"family_members\"]\n",
        "\n",
        "# Add p_individuals col as proportion of individuals\n",
        "homelessness[\"p_individuals\"] = homelessness[\"individuals\"]/homelessness[\"total\"]\n",
        "\n",
        "# See the result\n",
        "print(homelessness.head())  "
      ],
      "execution_count": 14,
      "outputs": [
        {
          "output_type": "stream",
          "name": "stdout",
          "text": [
            "               region       state  ...     total  p_individuals\n",
            "0  East South Central     Alabama  ...    3434.0       0.748398\n",
            "1             Pacific      Alaska  ...    2016.0       0.711310\n",
            "2            Mountain     Arizona  ...    9865.0       0.735834\n",
            "3  West South Central    Arkansas  ...    2712.0       0.840708\n",
            "4             Pacific  California  ...  129972.0       0.838704\n",
            "\n",
            "[5 rows x 7 columns]\n"
          ]
        }
      ]
    },
    {
      "cell_type": "markdown",
      "metadata": {
        "id": "qgzqR6oyHb_v"
      },
      "source": [
        "# **Combo-attack!**\n",
        "\n",
        "You've seen the four most common types of data manipulation: \n",
        "  1. sorting rows\n",
        "  2. subsetting columns\n",
        "  3. subsetting rows\n",
        "  4. adding new columns. \n",
        "  \n",
        "In a real-life data analysis, you can mix and match these four manipulations to answer a multitude of questions.\n",
        "\n",
        "In this exercise, you'll answer the question, \"Which state has the highest number of homeless individuals per 10,000 people in the state?\"\n",
        "\n",
        "* Add a column to `homelessness`, `indiv_per_10k`, containing the number of homeless individuals per ten thousand people in each state.\n",
        "* Subset rows where `indiv_per_10k` is higher than `20`, assigning to `high_homelessness`.\n",
        "* Sort `high_homelessness` by descending `indiv_per_10k`, assigning to `high_homelessness_srt`.\n",
        "* Select only the `state` and `indiv_per_10k` columns of `high_homelessness_srt` and save as result. *Look at the result*."
      ]
    },
    {
      "cell_type": "code",
      "metadata": {
        "colab": {
          "base_uri": "https://localhost:8080/"
        },
        "id": "AMo5D-uDHRRQ",
        "outputId": "cce7ec59-87eb-408b-e2e1-212dbc2f7b7e"
      },
      "source": [
        "import pandas as pd\n",
        "\n",
        "homelessness = pd.read_csv(\"homelessness.csv\", index_col=[0])\n",
        "\n",
        "# Create indiv_per_10k col as homeless individuals per 10k state pop\n",
        "homelessness[\"indiv_per_10k\"] = 10000 * homelessness[\"individuals\"]/homelessness[\"state_pop\"] \n",
        "\n",
        "# Subset rows for indiv_per_10k greater than 20\n",
        "high_homelessness = homelessness[homelessness[\"indiv_per_10k\"] > 20]\n",
        "\n",
        "# Sort high_homelessness by descending indiv_per_10k\n",
        "high_homelessness_srt = high_homelessness.sort_values(by=\"indiv_per_10k\", ascending=False)\n",
        "\n",
        "# From high_homelessness_srt, select the state and indiv_per_10k cols\n",
        "result = high_homelessness_srt[[\"state\", \"indiv_per_10k\"]]\n",
        "\n",
        "# See the result\n",
        "print(result)"
      ],
      "execution_count": 15,
      "outputs": [
        {
          "output_type": "stream",
          "name": "stdout",
          "text": [
            "                   state  indiv_per_10k\n",
            "8   District of Columbia      53.738381\n",
            "11                Hawaii      29.079406\n",
            "4             California      27.623825\n",
            "37                Oregon      26.636307\n",
            "28                Nevada      23.314189\n",
            "47            Washington      21.829195\n",
            "32              New York      20.392363\n"
          ]
        }
      ]
    },
    {
      "cell_type": "markdown",
      "metadata": {
        "id": "cw8W8-wSOdta"
      },
      "source": [
        "# **Mean and median**\n",
        "\n",
        "Summary statistics are exactly what they sound like - they ***summarize many numbers in one statistic***. For example, mean, median, minimum, maximum, and standard deviation are summary statistics. Calculating summary statistics allows you to get a better sense of your data, even if there's a lot of it.\n",
        "\n",
        "* Explore your new DataFrame first by printing the first few rows of the `sales` DataFrame.\n",
        "* Print information about the columns in `sales`.\n",
        "* Print the mean of the `weekly_sales` column.\n",
        "* Print the median of the `weekly_sales` column."
      ]
    },
    {
      "cell_type": "code",
      "metadata": {
        "colab": {
          "base_uri": "https://localhost:8080/"
        },
        "id": "0sNwbnTpJxb9",
        "outputId": "6c9c8c02-5483-4e04-f386-1745650ecdcd"
      },
      "source": [
        "import pandas as pd\n",
        "sales = pd.read_csv(\"sales_subset.csv\", index_col=[0])\n",
        "\n",
        "# Print the head of the sales DataFrame\n",
        "print(sales.head(), \"\\n\\n\")\n",
        "\n",
        "# Print the info about the sales DataFrame\n",
        "print(sales.info(), \"\\n\\n\")\n",
        "\n",
        "# Print the mean of weekly_sales\n",
        "print(sales[\"weekly_sales\"].mean(), \"\\n\\n\")\n",
        "\n",
        "# Print the median of weekly_sales\n",
        "print(sales[\"weekly_sales\"].median())"
      ],
      "execution_count": 1,
      "outputs": [
        {
          "output_type": "stream",
          "name": "stdout",
          "text": [
            "   store type  department  ... temperature_c  fuel_price_usd_per_l  unemployment\n",
            "0      1    A           1  ...      5.727778              0.679451         8.106\n",
            "1      1    A           1  ...      8.055556              0.693452         8.106\n",
            "2      1    A           1  ...     16.816667              0.718284         7.808\n",
            "3      1    A           1  ...     22.527778              0.748928         7.808\n",
            "4      1    A           1  ...     27.050000              0.714586         7.808\n",
            "\n",
            "[5 rows x 9 columns] \n",
            "\n",
            "\n",
            "<class 'pandas.core.frame.DataFrame'>\n",
            "Int64Index: 10774 entries, 0 to 10773\n",
            "Data columns (total 9 columns):\n",
            " #   Column                Non-Null Count  Dtype  \n",
            "---  ------                --------------  -----  \n",
            " 0   store                 10774 non-null  int64  \n",
            " 1   type                  10774 non-null  object \n",
            " 2   department            10774 non-null  int64  \n",
            " 3   date                  10774 non-null  object \n",
            " 4   weekly_sales          10774 non-null  float64\n",
            " 5   is_holiday            10774 non-null  bool   \n",
            " 6   temperature_c         10774 non-null  float64\n",
            " 7   fuel_price_usd_per_l  10774 non-null  float64\n",
            " 8   unemployment          10774 non-null  float64\n",
            "dtypes: bool(1), float64(4), int64(2), object(2)\n",
            "memory usage: 768.1+ KB\n",
            "None \n",
            "\n",
            "\n",
            "23843.950148505668 \n",
            "\n",
            "\n",
            "12049.064999999999\n"
          ]
        }
      ]
    },
    {
      "cell_type": "markdown",
      "metadata": {
        "id": "sh85tt9eP-gg"
      },
      "source": [
        "# **Summarizing dates**\n",
        "\n",
        "Summary statistics can also be calculated on date columns that have values with the data type `datetime64`. Some summary statistics — like `mean` — don't make a ton of sense on dates, but others are super helpful, for example, ***minimum*** and ***maximum***, which allow you to see what time range your data covers.\n",
        "\n",
        "* Print the maximum of the date column.\n",
        "* Print the minimum of the date column."
      ]
    },
    {
      "cell_type": "code",
      "metadata": {
        "colab": {
          "base_uri": "https://localhost:8080/"
        },
        "id": "Qk6HuWbqPTDK",
        "outputId": "583dc411-6c19-478d-91cb-b7958376618a"
      },
      "source": [
        "import pandas as pd\n",
        "sales = pd.read_csv(\"sales_subset.csv\", index_col=[0])\n",
        "\n",
        "# Print the maximum of the date column\n",
        "print(sales[\"date\"].max())\n",
        "\n",
        "# Print the minimum of the date column\n",
        "print(sales[\"date\"].min())"
      ],
      "execution_count": 2,
      "outputs": [
        {
          "output_type": "stream",
          "name": "stdout",
          "text": [
            "2012-10-26\n",
            "2010-02-05\n"
          ]
        }
      ]
    },
    {
      "cell_type": "markdown",
      "metadata": {
        "id": "hP1XWDG1QqwH"
      },
      "source": [
        "# **Efficient summaries**\n",
        "\n",
        "While pandas and NumPy have tons of functions, sometimes, you may need a different function to summarize your data.\n",
        "\n",
        "The `.agg()` method allows you to apply your own custom functions to a DataFrame, as well as apply functions to more than one column of a DataFrame at once, making your aggregations super-efficient. For example,\n",
        "\n",
        "```\n",
        "df['column'].agg(function)\n",
        "```\n",
        "\n",
        "In the custom function for this exercise, \"IQR\" is short for inter-quartile range, which is the 75th percentile minus the 25th percentile. It's an alternative to standard deviation that is helpful if your data contains outliers.\n",
        "\n",
        "\n",
        "* Use the custom `iqr` function defined for you along with `.agg()` to print the IQR of the `temperature_c` column of `sales`.\n",
        "* Update the column selection to use the custom `iqr` function with `.agg()` to print the IQR of `temperature_c`, `fuel_price_usd_per_l`, and `unemployment`, in that order.\n",
        "* Update the aggregation functions called by `.agg()`: include `iqr` and `np.median` in that order."
      ]
    },
    {
      "cell_type": "code",
      "metadata": {
        "colab": {
          "base_uri": "https://localhost:8080/"
        },
        "id": "lief__HwPh8L",
        "outputId": "dc620fab-2449-4486-901b-692d805b00e9"
      },
      "source": [
        "import pandas as pd\n",
        "import numpy as np\n",
        "\n",
        "sales = pd.read_csv(\"sales_subset.csv\", index_col=[0])\n",
        "\n",
        "# A custom IQR function\n",
        "def iqr(column):\n",
        "    return column.quantile(0.75) - column.quantile(0.25)\n",
        "    \n",
        "# Print IQR of the temperature_c column\n",
        "print(sales[\"temperature_c\"].agg(iqr), \"\\n\\n\")\n",
        "\n",
        "# Update to print IQR of temperature_c, fuel_price_usd_per_l, & unemployment\n",
        "print(sales[[\"temperature_c\", \"fuel_price_usd_per_l\", \"unemployment\"]].agg(iqr), \"\\n\\n\")\n",
        "\n",
        "# Update to print IQR and median of temperature_c, fuel_price_usd_per_l, & unemployment\n",
        "print(sales[[\"temperature_c\", \"fuel_price_usd_per_l\", \"unemployment\"]].agg([iqr, np.median]))"
      ],
      "execution_count": 7,
      "outputs": [
        {
          "output_type": "stream",
          "name": "stdout",
          "text": [
            "16.58333333333334 \n",
            "\n",
            "\n",
            "temperature_c           16.583333\n",
            "fuel_price_usd_per_l     0.073176\n",
            "unemployment             0.565000\n",
            "dtype: float64 \n",
            "\n",
            "\n",
            "        temperature_c  fuel_price_usd_per_l  unemployment\n",
            "iqr         16.583333              0.073176         0.565\n",
            "median      16.966667              0.743381         8.099\n"
          ]
        }
      ]
    },
    {
      "cell_type": "markdown",
      "metadata": {
        "id": "_saUBuvOTYDL"
      },
      "source": [
        "# **Cumulative statistics**\n",
        "\n",
        "Cumulative statistics can also be helpful in tracking summary statistics over time. In this exercise, you'll calculate the cumulative sum and cumulative max of a department's weekly sales, which will allow you to identify what the total sales were so far as well as what the highest weekly sales were so far.\n",
        "\n",
        "A DataFrame called `sales_1_1` contains the sales data for department 1 of store 1. \n",
        "\n",
        "* Sort the rows of `sales_1_1` by the `date` column in ascending order.\n",
        "* Get the cumulative sum of `weekly_sales` and add it as a new column of `sales_1_1` called `cum_weekly_sales`.\n",
        "* Get the cumulative maximum of `weekly_sales`, and add it as a column called `cum_max_sales`.\n",
        "* Print the `date`, `weekly_sales`, `cum_weekly_sales`, and `cum_max_sales columns`."
      ]
    },
    {
      "cell_type": "code",
      "metadata": {
        "colab": {
          "base_uri": "https://localhost:8080/"
        },
        "id": "6WKJrcIpRzkr",
        "outputId": "873238a9-6453-445f-862a-76911ca4b51c"
      },
      "source": [
        "import pandas as pd\n",
        "\n",
        "sales_1_1 = sales[(sales[\"store\"]==1) & (sales[\"department\"]==1)]\n",
        "\n",
        "# Sort sales_1_1 by date\n",
        "sales_1_1 = sales_1_1.sort_values(by=\"date\")\n",
        "\n",
        "# Get the cumulative sum of weekly_sales, add as cum_weekly_sales col\n",
        "sales_1_1[\"cum_weekly_sales\"] = sales_1_1[\"weekly_sales\"].cumsum()\n",
        "\n",
        "# Get the cumulative max of weekly_sales, add as cum_max_sales col\n",
        "sales_1_1[\"cum_max_sales\"] = sales_1_1[\"weekly_sales\"].cummax()\n",
        "\n",
        "# See the columns you calculated\n",
        "print(sales_1_1[[\"date\", \"weekly_sales\", \"cum_weekly_sales\", \"cum_max_sales\"]])"
      ],
      "execution_count": 8,
      "outputs": [
        {
          "output_type": "stream",
          "name": "stdout",
          "text": [
            "          date  weekly_sales  cum_weekly_sales  cum_max_sales\n",
            "0   2010-02-05      24924.50          24924.50       24924.50\n",
            "1   2010-03-05      21827.90          46752.40       24924.50\n",
            "2   2010-04-02      57258.43         104010.83       57258.43\n",
            "3   2010-05-07      17413.94         121424.77       57258.43\n",
            "4   2010-06-04      17558.09         138982.86       57258.43\n",
            "5   2010-07-02      16333.14         155316.00       57258.43\n",
            "6   2010-08-06      17508.41         172824.41       57258.43\n",
            "7   2010-09-03      16241.78         189066.19       57258.43\n",
            "8   2010-10-01      20094.19         209160.38       57258.43\n",
            "9   2010-11-05      34238.88         243399.26       57258.43\n",
            "10  2010-12-03      22517.56         265916.82       57258.43\n",
            "11  2011-01-07      15984.24         281901.06       57258.43\n"
          ]
        }
      ]
    },
    {
      "cell_type": "markdown",
      "metadata": {
        "id": "5MCQdmAYWrvs"
      },
      "source": [
        "# **Dropping duplicates**\n",
        "\n",
        "Removing duplicates is an essential skill to get accurate counts because often, you don't want to count the same thing multiple times. \n",
        "\n",
        "* Remove rows of `sales` with duplicate pairs of `store` and `type` and save as `store_types` and print the head.\n",
        "* Remove rows of `sales` with duplicate pairs of `store` and `department` and save as `store_depts` and print the head.\n",
        "* Subset the rows that are  holiday weeks using the `is_holiday` column, and drop the duplicate `date`s, saving as `holiday_dates`.\n",
        "* Select the `date` column of `holiday_dates`, and print."
      ]
    },
    {
      "cell_type": "code",
      "metadata": {
        "colab": {
          "base_uri": "https://localhost:8080/"
        },
        "id": "7d4TCuhAVkES",
        "outputId": "6656b990-b9fa-4818-e199-9cd9cc7e1bab"
      },
      "source": [
        "import pandas as pd\n",
        "\n",
        "sales = pd.read_csv(\"sales_subset.csv\", index_col=[0])\n",
        "\n",
        "# Drop duplicate store/type combinations\n",
        "store_types = sales.drop_duplicates(subset=[\"store\", \"type\"])\n",
        "print(store_types.head(), \"\\n\\n\")\n",
        "\n",
        "# Drop duplicate store/department combinations\n",
        "store_depts = sales.drop_duplicates(subset=[\"store\", \"department\"])\n",
        "print(store_depts.head(), \"\\n\\n\")\n",
        "\n",
        "# Subset the rows where is_holiday is True and drop duplicate dates\n",
        "holiday_dates = sales[sales[\"is_holiday\"]==True].drop_duplicates(\"date\")\n",
        "\n",
        "# Print date col of holiday_dates\n",
        "print(holiday_dates[\"date\"])"
      ],
      "execution_count": 11,
      "outputs": [
        {
          "output_type": "stream",
          "name": "stdout",
          "text": [
            "      store type  department  ... temperature_c  fuel_price_usd_per_l  unemployment\n",
            "0         1    A           1  ...      5.727778              0.679451         8.106\n",
            "901       2    A           1  ...      4.550000              0.679451         8.324\n",
            "1798      4    A           1  ...      6.533333              0.686319         8.623\n",
            "2699      6    A           1  ...      4.683333              0.679451         7.259\n",
            "3593     10    B           1  ...     12.411111              0.782478         9.765\n",
            "\n",
            "[5 rows x 9 columns] \n",
            "\n",
            "\n",
            "    store type  department  ... temperature_c  fuel_price_usd_per_l  unemployment\n",
            "0       1    A           1  ...      5.727778              0.679451         8.106\n",
            "12      1    A           2  ...      5.727778              0.679451         8.106\n",
            "24      1    A           3  ...      5.727778              0.679451         8.106\n",
            "36      1    A           4  ...      5.727778              0.679451         8.106\n",
            "48      1    A           5  ...      5.727778              0.679451         8.106\n",
            "\n",
            "[5 rows x 9 columns] \n",
            "\n",
            "\n",
            "498     2010-09-10\n",
            "691     2011-11-25\n",
            "2315    2010-02-12\n",
            "6735    2012-09-07\n",
            "6810    2010-12-31\n",
            "6815    2012-02-10\n",
            "6820    2011-09-09\n",
            "Name: date, dtype: object\n"
          ]
        }
      ]
    },
    {
      "cell_type": "markdown",
      "metadata": {
        "id": "K2FEXVtiasBU"
      },
      "source": [
        "# **Counting categorical variables**\n",
        "\n",
        "Count the number of each type of store and the number of each department number.\n",
        "\n",
        "```\n",
        "# Drop duplicate store/type combinations\n",
        "store_types = sales.drop_duplicates(subset=[\"store\", \"type\"])\n",
        "\n",
        "# Drop duplicate store/department combinations\n",
        "store_depts = sales.drop_duplicates(subset=[\"store\", \"department\"])\n",
        "```\n",
        "\n",
        "* Count the number of stores of each store `type` in `store_types`.\n",
        "* Count the proportion of stores of each store `type` in `store_types`.\n",
        "* Count the number of different `department`s in `store_depts`, sorting the counts in descending order.\n",
        "* Count the proportion of different `department`s in `store_depts`, sorting the proportions in descending order."
      ]
    },
    {
      "cell_type": "code",
      "metadata": {
        "colab": {
          "base_uri": "https://localhost:8080/"
        },
        "id": "FcBi_of1aANZ",
        "outputId": "b71fbff8-20c2-431c-c458-6877a0f3150f"
      },
      "source": [
        "import pandas as pd\n",
        "\n",
        "sales = pd.read_csv(\"sales_subset.csv\", index_col=[0])\n",
        "store_types = sales.drop_duplicates(subset=[\"store\", \"type\"])\n",
        "store_depts = sales.drop_duplicates(subset=[\"store\", \"department\"])\n",
        "\n",
        "# Count the number of stores of each type\n",
        "store_counts = store_types[\"type\"].value_counts()\n",
        "print(store_counts, \"\\n\\n\")\n",
        "\n",
        "# Get the proportion of stores of each type\n",
        "store_props = store_types[\"type\"].value_counts(normalize=True)\n",
        "print(store_props, \"\\n\\n\")\n",
        "\n",
        "# Count the number of each department number and sort\n",
        "dept_counts_sorted = store_depts[\"department\"].value_counts(sort=True)\n",
        "print(dept_counts_sorted, \"\\n\\n\")\n",
        "\n",
        "# Get the proportion of departments of each number and sort\n",
        "dept_props_sorted = store_depts[\"department\"].value_counts(sort=True, normalize=True)\n",
        "print(dept_props_sorted)"
      ],
      "execution_count": 14,
      "outputs": [
        {
          "output_type": "stream",
          "name": "stdout",
          "text": [
            "A    11\n",
            "B     1\n",
            "Name: type, dtype: int64 \n",
            "\n",
            "\n",
            "A    0.916667\n",
            "B    0.083333\n",
            "Name: type, dtype: float64 \n",
            "\n",
            "\n",
            "41    12\n",
            "30    12\n",
            "23    12\n",
            "24    12\n",
            "25    12\n",
            "      ..\n",
            "37    10\n",
            "48     8\n",
            "50     6\n",
            "39     4\n",
            "43     2\n",
            "Name: department, Length: 80, dtype: int64 \n",
            "\n",
            "\n",
            "41    0.012917\n",
            "30    0.012917\n",
            "23    0.012917\n",
            "24    0.012917\n",
            "25    0.012917\n",
            "        ...   \n",
            "37    0.010764\n",
            "48    0.008611\n",
            "50    0.006459\n",
            "39    0.004306\n",
            "43    0.002153\n",
            "Name: department, Length: 80, dtype: float64\n"
          ]
        }
      ]
    },
    {
      "cell_type": "markdown",
      "metadata": {
        "id": "r4nF8agneYLN"
      },
      "source": [
        "# **What percent of sales occurred at each store type?**\n",
        "\n",
        "While `.groupby()` is useful, you can calculate grouped summary statistics without it.\n",
        "\n",
        "Walmart distinguishes three types of stores: \"supercenters,\" \"discount stores,\" and \"neighborhood markets\", encoded in this dataset as type \"A,\" \"B,\" and \"C.\" In this exercise, you'll calculate the total sales made at each store type, without using `.groupby()`. You can then use these numbers to see what proportion of Walmart's total sales were made at each type.\n",
        "\n",
        "* Calculate the total `weekly_sales` over the whole dataset.\n",
        "* Subset for `type` `\"A\"` stores, and calculate their total weekly sales.\n",
        "* Do the same for `type` `\"B\"` and `type` `\"C\"` stores.\n",
        "* Combine the A/B/C results into a list, and divide by `sales_all` to get the proportion of sales by type."
      ]
    },
    {
      "cell_type": "code",
      "metadata": {
        "colab": {
          "base_uri": "https://localhost:8080/"
        },
        "id": "AcIbr8o_dLPu",
        "outputId": "af2987b9-8d84-4bd3-e393-b9c2a4d08fe7"
      },
      "source": [
        "import pandas as pd\n",
        "\n",
        "sales = pd.read_csv(\"sales_subset.csv\", index_col=[0])\n",
        "\n",
        "# Calc total weekly sales\n",
        "sales_all = sales[\"weekly_sales\"].sum()\n",
        "\n",
        "# Subset for type A stores, calc total weekly sales\n",
        "sales_A = sales[sales[\"type\"]==\"A\"][\"weekly_sales\"].sum()\n",
        "\n",
        "# Subset for type B stores, calc total weekly sales\n",
        "sales_B = sales[sales[\"type\"]==\"B\"][\"weekly_sales\"].sum()\n",
        "\n",
        "# Subset for type C stores, calc total weekly sales\n",
        "sales_C = sales[sales[\"type\"]==\"C\"][\"weekly_sales\"].sum()\n",
        "\n",
        "# Get proportion for each type\n",
        "sales_propn_by_type = [sales_A, sales_B, sales_C]/sales_all\n",
        "print(sales_propn_by_type)"
      ],
      "execution_count": 16,
      "outputs": [
        {
          "output_type": "stream",
          "name": "stdout",
          "text": [
            "[0.9097747 0.0902253 0.       ]\n"
          ]
        }
      ]
    },
    {
      "cell_type": "markdown",
      "metadata": {
        "id": "XXkX57prf9Ma"
      },
      "source": [
        "# **Calculations with .groupby()**\n",
        "\n",
        "The `.groupby()` method makes life much easier. In this exercise, you'll perform the same calculations as last time, except you'll use the `.groupby()` method. You'll also perform calculations on data grouped by two variables to see if sales differ by store type depending on if it's a holiday week or not.\n",
        "\n",
        "* Group sales by `\"type\"`, take the sum of `\"weekly_sales\"`, and store as `sales_by_type`.\n",
        "* Calculate the proportion of `sales` at each store type by dividing by the sum of `sales_by_type`. Assign to `sales_propn_by_type`.\n",
        "* Group sales by `\"type\"` and `\"is_holiday\"`, take the sum of `weekly_sales`, and store as `sales_by_type_is_holiday`."
      ]
    },
    {
      "cell_type": "code",
      "metadata": {
        "colab": {
          "base_uri": "https://localhost:8080/"
        },
        "id": "Imj-064Tfye8",
        "outputId": "68b8e80e-986e-4ad4-d2e4-4709c4d0e0b7"
      },
      "source": [
        "import pandas as pd\n",
        "\n",
        "sales = pd.read_csv(\"sales_subset.csv\", index_col=[0])\n",
        "\n",
        "# Group by type; calc total weekly sales\n",
        "sales_by_type = sales.groupby(\"type\")[\"weekly_sales\"].sum()\n",
        "\n",
        "# Get proportion for each type\n",
        "sales_propn_by_type = sales_by_type / sum(sales_by_type)\n",
        "print(sales_propn_by_type, \"\\n\\n\")\n",
        "\n",
        "# Group by type and is_holiday; calc total weekly sales\n",
        "sales_by_type_is_holiday = sales.groupby([\"type\", \"is_holiday\"])[\"weekly_sales\"].sum()\n",
        "print(sales_by_type_is_holiday)"
      ],
      "execution_count": 19,
      "outputs": [
        {
          "output_type": "stream",
          "name": "stdout",
          "text": [
            "type\n",
            "A    0.909775\n",
            "B    0.090225\n",
            "Name: weekly_sales, dtype: float64 \n",
            "\n",
            "\n",
            "type  is_holiday\n",
            "A     False         2.336927e+08\n",
            "      True          2.360181e+04\n",
            "B     False         2.317678e+07\n",
            "      True          1.621410e+03\n",
            "Name: weekly_sales, dtype: float64\n"
          ]
        }
      ]
    },
    {
      "cell_type": "markdown",
      "metadata": {
        "id": "nIK7s91EibkO"
      },
      "source": [
        "# **Multiple grouped summaries**\n",
        "\n",
        "`.agg()` method is useful to compute multiple statistics on multiple variables. It also works with grouped data. NumPy has many different summary statistics functions, including: `np.min`, `np.max`, `np.mean`, and `np.median`.\n",
        "\n",
        "* Get the min, max, mean, and median of `weekly_sales` for each store type using `.groupby()` and `.agg()`. Store this as `sales_stats`. Make sure to use `numpy` functions!\n",
        "* Get the min, max, mean, and median of `unemployment` and `fuel_price_usd_per_l` for each store type. Store this as `unemp_fuel_stats`."
      ]
    },
    {
      "cell_type": "code",
      "metadata": {
        "colab": {
          "base_uri": "https://localhost:8080/"
        },
        "id": "72q_K2qif2_X",
        "outputId": "061887ce-e717-4d4b-9987-8c049f51ba32"
      },
      "source": [
        "import numpy as np\n",
        "import pandas as pd\n",
        "\n",
        "sales = pd.read_csv(\"sales_subset.csv\", index_col=[0])\n",
        "\n",
        "# For each store type, aggregate weekly_sales: get min, max, mean, and median\n",
        "sales_stats = sales.groupby(\"type\")[\"weekly_sales\"].agg([np.min, np.max, np.mean, np.median])\n",
        "\n",
        "# Print sales_stats\n",
        "print(sales_stats)\n",
        "\n",
        "# For each store type, aggregate unemployment and fuel_price_usd_per_l: get min, max, mean, and median\n",
        "unemp_fuel_stats = sales.groupby(\"type\")[[\"unemployment\", \"fuel_price_usd_per_l\"]].agg([np.min, np.max, np.mean, np.median])\n",
        "\n",
        "# Print unemp_fuel_stats\n",
        "print(unemp_fuel_stats)"
      ],
      "execution_count": 20,
      "outputs": [
        {
          "output_type": "stream",
          "name": "stdout",
          "text": [
            "        amin       amax          mean    median\n",
            "type                                           \n",
            "A    -1098.0  293966.05  23674.667242  11943.92\n",
            "B     -798.0  232558.51  25696.678370  13336.08\n",
            "     unemployment                   ... fuel_price_usd_per_l                    \n",
            "             amin   amax      mean  ...                 amax      mean    median\n",
            "type                                ...                                         \n",
            "A           3.879  8.992  7.972611  ...             1.107410  0.744619  0.735455\n",
            "B           7.170  9.765  9.279323  ...             1.107674  0.805858  0.803348\n",
            "\n",
            "[2 rows x 8 columns]\n"
          ]
        }
      ]
    },
    {
      "cell_type": "markdown",
      "metadata": {
        "id": "waKOVVwYlF1w"
      },
      "source": [
        "# **Pivoting on one variable**\n",
        "\n",
        "Pivot tables are the standard way of aggregating data in spreadsheets. In pandas, pivot tables are essentially just another way of performing grouped calculations. That is, the `.pivot_table()` method is just an alternative to `.groupby()`.\n",
        "\n",
        "\n",
        "* Get the mean `weekly_sales` by type using `.pivot_table()` and store as `mean_sales_by_type`.\n",
        "* Get the mean and median (using NumPy functions) of `weekly_sales` by type using `.pivot_table()` and store as `mean_med_sales_by_type`.\n",
        "* Get the mean of `weekly_sales` by `type` and `is_holiday` using `.pivot_table()` and store as `mean_sales_by_type_holiday`."
      ]
    },
    {
      "cell_type": "code",
      "metadata": {
        "colab": {
          "base_uri": "https://localhost:8080/"
        },
        "id": "MJ3SG_Jnj8ml",
        "outputId": "f5615d57-8b4e-4cc2-f3e8-cd356e8bd982"
      },
      "source": [
        "import pandas as pd\n",
        "\n",
        "sales = pd.read_csv(\"sales_subset.csv\", index_col=[0])\n",
        "\n",
        "# Pivot for mean weekly_sales for each store type\n",
        "mean_sales_by_type = sales.pivot_table(values=\"weekly_sales\", index=\"type\")\n",
        "\n",
        "# Print mean_sales_by_type\n",
        "print(mean_sales_by_type, \"\\n\\n\")\n",
        "\n",
        "# Pivot for mean and median weekly_sales for each store type\n",
        "mean_med_sales_by_type = sales.pivot_table(values=\"weekly_sales\", index=\"type\", aggfunc=[np.mean, np.median])\n",
        "\n",
        "# Print mean_med_sales_by_type\n",
        "print(mean_med_sales_by_type, \"\\n\\n\")\n",
        "\n",
        "# Pivot for mean weekly_sales by store type and holiday \n",
        "mean_sales_by_type_holiday = sales.pivot_table(values=\"weekly_sales\", index=\"type\", columns=\"is_holiday\")\n",
        "\n",
        "# Print mean_sales_by_type_holiday\n",
        "print(mean_sales_by_type_holiday)"
      ],
      "execution_count": 21,
      "outputs": [
        {
          "output_type": "stream",
          "name": "stdout",
          "text": [
            "      weekly_sales\n",
            "type              \n",
            "A     23674.667242\n",
            "B     25696.678370 \n",
            "\n",
            "\n",
            "              mean       median\n",
            "      weekly_sales weekly_sales\n",
            "type                           \n",
            "A     23674.667242     11943.92\n",
            "B     25696.678370     13336.08 \n",
            "\n",
            "\n",
            "is_holiday         False      True \n",
            "type                               \n",
            "A           23768.583523  590.04525\n",
            "B           25751.980533  810.70500\n"
          ]
        }
      ]
    },
    {
      "cell_type": "markdown",
      "metadata": {
        "id": "ZjfwaMZcm5Re"
      },
      "source": [
        "# **Fill in missing values and sum values with pivot tables**\n",
        "\n",
        "The `.pivot_table()` method has several useful arguments, including `fill_value` and `margins`.\n",
        "\n",
        "* `fill_value` replaces missing values with a real value (known as imputation). \n",
        "* `margins` is a shortcut for when you pivoted by <ins>two</ins> variables, but also wanted to pivot by each of those variables separately: it gives the row and column totals of the pivot table contents.\n",
        "\n",
        "* Print the mean `weekly_sales` by `department` and `type`, filling in any missing values with `0`.\n",
        "* Print the mean `weekly_sales` by `department` and `type`, filling in any missing values with `0` and summing all rows and columns."
      ]
    },
    {
      "cell_type": "code",
      "metadata": {
        "colab": {
          "base_uri": "https://localhost:8080/"
        },
        "id": "iYjnIBF3mw1E",
        "outputId": "0e872b0d-6cbf-4153-a99a-299a4b13d5f8"
      },
      "source": [
        "import pandas as pd\n",
        "\n",
        "sales = pd.read_csv(\"sales_subset.csv\", index_col=[0])\n",
        "\n",
        "# Print mean weekly_sales by department and type; fill missing values with 0\n",
        "print(sales.pivot_table(values=\"weekly_sales\", index=\"department\", columns=\"type\", fill_value=0), \"\\n\\n\")\n",
        "\n",
        "# Print the mean weekly_sales by department and type; fill missing values with 0s; sum all rows and cols\n",
        "print(sales.pivot_table(values=\"weekly_sales\", index=\"department\", columns=\"type\", fill_value=0, margins=True))"
      ],
      "execution_count": 22,
      "outputs": [
        {
          "output_type": "stream",
          "name": "stdout",
          "text": [
            "type                    A              B\n",
            "department                              \n",
            "1            30961.725379   44050.626667\n",
            "2            67600.158788  112958.526667\n",
            "3            17160.002955   30580.655000\n",
            "4            44285.399091   51219.654167\n",
            "5            34821.011364   63236.875000\n",
            "...                   ...            ...\n",
            "95          123933.787121   77082.102500\n",
            "96           21367.042857    9528.538333\n",
            "97           28471.266970    5828.873333\n",
            "98           12875.423182     217.428333\n",
            "99             379.123659       0.000000\n",
            "\n",
            "[80 rows x 2 columns] \n",
            "\n",
            "\n",
            "type                   A              B           All\n",
            "department                                           \n",
            "1           30961.725379   44050.626667  32052.467153\n",
            "2           67600.158788  112958.526667  71380.022778\n",
            "3           17160.002955   30580.655000  18278.390625\n",
            "4           44285.399091   51219.654167  44863.253681\n",
            "5           34821.011364   63236.875000  37189.000000\n",
            "...                  ...            ...           ...\n",
            "96          21367.042857    9528.538333  20337.607681\n",
            "97          28471.266970    5828.873333  26584.400833\n",
            "98          12875.423182     217.428333  11820.590278\n",
            "99            379.123659       0.000000    379.123659\n",
            "All         23674.667242   25696.678370  23843.950149\n",
            "\n",
            "[81 rows x 3 columns]\n"
          ]
        }
      ]
    },
    {
      "cell_type": "markdown",
      "metadata": {
        "id": "PF79nWRY1VgI"
      },
      "source": [
        "# **Setting and removing indexes**\n",
        "\n",
        "`pandas` allows you to designate columns as an index. This enables cleaner code when taking subsets (as well as providing more efficient lookup under some circumstances).\n",
        "\n",
        "* Set the index of `temperatures` to `\"city\"`, assigning to `temperatures_ind`.\n",
        "* Look at `temperatures_ind`. How is it different from `temperatures`?\n",
        "* Reset the index of `temperatures_ind`, keeping its contents.\n",
        "* Reset the index of `temperatures_ind`, dropping its contents."
      ]
    },
    {
      "cell_type": "code",
      "metadata": {
        "colab": {
          "base_uri": "https://localhost:8080/"
        },
        "id": "H9w-5Ldfoj3M",
        "outputId": "77eba531-bb55-43a4-dbb7-cd0390b1c5dc"
      },
      "source": [
        "import pandas as pd\n",
        "\n",
        "temperatures = pd.read_csv(\"temperatures.csv\", index_col=[0])\n",
        "\n",
        "# Look at temperatures\n",
        "print(temperatures, \"\\n\\n\")\n",
        "\n",
        "# Index temperatures by city\n",
        "temperatures_ind = temperatures.set_index(\"city\")\n",
        "\n",
        "# Look at temperatures_ind\n",
        "print(temperatures_ind, \"\\n\\n\")\n",
        "\n",
        "# Reset the index, keeping its contents\n",
        "print(temperatures_ind.reset_index(), \"\\n\\n\")\n",
        "\n",
        "# Reset the index, dropping its contents\n",
        "print(temperatures_ind.reset_index(drop=True), \"\\n\\n\")"
      ],
      "execution_count": 1,
      "outputs": [
        {
          "output_type": "stream",
          "name": "stdout",
          "text": [
            "             date     city        country  avg_temp_c\n",
            "0      2000-01-01  Abidjan  Côte D'Ivoire      27.293\n",
            "1      2000-02-01  Abidjan  Côte D'Ivoire      27.685\n",
            "2      2000-03-01  Abidjan  Côte D'Ivoire      29.061\n",
            "3      2000-04-01  Abidjan  Côte D'Ivoire      28.162\n",
            "4      2000-05-01  Abidjan  Côte D'Ivoire      27.547\n",
            "...           ...      ...            ...         ...\n",
            "16495  2013-05-01     Xian          China      18.979\n",
            "16496  2013-06-01     Xian          China      23.522\n",
            "16497  2013-07-01     Xian          China      25.251\n",
            "16498  2013-08-01     Xian          China      24.528\n",
            "16499  2013-09-01     Xian          China         NaN\n",
            "\n",
            "[16500 rows x 4 columns] \n",
            "\n",
            "\n",
            "               date        country  avg_temp_c\n",
            "city                                          \n",
            "Abidjan  2000-01-01  Côte D'Ivoire      27.293\n",
            "Abidjan  2000-02-01  Côte D'Ivoire      27.685\n",
            "Abidjan  2000-03-01  Côte D'Ivoire      29.061\n",
            "Abidjan  2000-04-01  Côte D'Ivoire      28.162\n",
            "Abidjan  2000-05-01  Côte D'Ivoire      27.547\n",
            "...             ...            ...         ...\n",
            "Xian     2013-05-01          China      18.979\n",
            "Xian     2013-06-01          China      23.522\n",
            "Xian     2013-07-01          China      25.251\n",
            "Xian     2013-08-01          China      24.528\n",
            "Xian     2013-09-01          China         NaN\n",
            "\n",
            "[16500 rows x 3 columns] \n",
            "\n",
            "\n",
            "          city        date        country  avg_temp_c\n",
            "0      Abidjan  2000-01-01  Côte D'Ivoire      27.293\n",
            "1      Abidjan  2000-02-01  Côte D'Ivoire      27.685\n",
            "2      Abidjan  2000-03-01  Côte D'Ivoire      29.061\n",
            "3      Abidjan  2000-04-01  Côte D'Ivoire      28.162\n",
            "4      Abidjan  2000-05-01  Côte D'Ivoire      27.547\n",
            "...        ...         ...            ...         ...\n",
            "16495     Xian  2013-05-01          China      18.979\n",
            "16496     Xian  2013-06-01          China      23.522\n",
            "16497     Xian  2013-07-01          China      25.251\n",
            "16498     Xian  2013-08-01          China      24.528\n",
            "16499     Xian  2013-09-01          China         NaN\n",
            "\n",
            "[16500 rows x 4 columns] \n",
            "\n",
            "\n",
            "             date        country  avg_temp_c\n",
            "0      2000-01-01  Côte D'Ivoire      27.293\n",
            "1      2000-02-01  Côte D'Ivoire      27.685\n",
            "2      2000-03-01  Côte D'Ivoire      29.061\n",
            "3      2000-04-01  Côte D'Ivoire      28.162\n",
            "4      2000-05-01  Côte D'Ivoire      27.547\n",
            "...           ...            ...         ...\n",
            "16495  2013-05-01          China      18.979\n",
            "16496  2013-06-01          China      23.522\n",
            "16497  2013-07-01          China      25.251\n",
            "16498  2013-08-01          China      24.528\n",
            "16499  2013-09-01          China         NaN\n",
            "\n",
            "[16500 rows x 3 columns] \n",
            "\n",
            "\n"
          ]
        }
      ]
    },
    {
      "cell_type": "markdown",
      "metadata": {
        "id": "9H9Dstgg276-"
      },
      "source": [
        "Setting an index allows more concise code for subsetting for rows of a categorical variable via `.loc[]`.\n",
        "\n",
        "# **Subsetting with .loc[]**\n",
        "\n",
        "The killer feature for indexes is `.loc[]`: a subsetting method that accepts index values. When you pass it a single argument, it will take a subset of rows.\n",
        "\n",
        "The code for subsetting using `.loc[]` can be easier to read than standard square bracket subsetting, which can make your code less burdensome to maintain.\n",
        "\n",
        "* Create a list called `cities` that contains `\"Moscow\"` and `\"Saint Petersburg\"`.\n",
        "* Use `[]` subsetting to filter `temperatures` for rows where the `city` column takes a value in the `cities` list.\n",
        "* Use `.loc[]` subsetting to filter `temperatures_ind` for rows where the `city` is in the `cities` list."
      ]
    },
    {
      "cell_type": "code",
      "metadata": {
        "colab": {
          "base_uri": "https://localhost:8080/"
        },
        "id": "o0SF6b3F2vIm",
        "outputId": "86887bed-3201-489b-b364-5d61d01d72ec"
      },
      "source": [
        "import pandas as pd\n",
        "\n",
        "temperatures = pd.read_csv(\"temperatures.csv\", index_col=[0])\n",
        "temperatures_ind = temperatures.set_index(\"city\")\n",
        "\n",
        "# Make a list of cities to subset on\n",
        "cities = [\"Moscow\", \"Saint Petersburg\"]\n",
        "\n",
        "# Subset temperatures using square brackets\n",
        "print(temperatures[temperatures[\"city\"].isin(cities)], \"\\n\\n\")\n",
        "\n",
        "# Subset temperatures_ind using .loc[]\n",
        "print(temperatures_ind.loc[cities])"
      ],
      "execution_count": 2,
      "outputs": [
        {
          "output_type": "stream",
          "name": "stdout",
          "text": [
            "             date              city country  avg_temp_c\n",
            "10725  2000-01-01            Moscow  Russia      -7.313\n",
            "10726  2000-02-01            Moscow  Russia      -3.551\n",
            "10727  2000-03-01            Moscow  Russia      -1.661\n",
            "10728  2000-04-01            Moscow  Russia      10.096\n",
            "10729  2000-05-01            Moscow  Russia      10.357\n",
            "...           ...               ...     ...         ...\n",
            "13360  2013-05-01  Saint Petersburg  Russia      12.355\n",
            "13361  2013-06-01  Saint Petersburg  Russia      17.185\n",
            "13362  2013-07-01  Saint Petersburg  Russia      17.234\n",
            "13363  2013-08-01  Saint Petersburg  Russia      17.153\n",
            "13364  2013-09-01  Saint Petersburg  Russia         NaN\n",
            "\n",
            "[330 rows x 4 columns] \n",
            "\n",
            "\n",
            "                        date country  avg_temp_c\n",
            "city                                            \n",
            "Moscow            2000-01-01  Russia      -7.313\n",
            "Moscow            2000-02-01  Russia      -3.551\n",
            "Moscow            2000-03-01  Russia      -1.661\n",
            "Moscow            2000-04-01  Russia      10.096\n",
            "Moscow            2000-05-01  Russia      10.357\n",
            "...                      ...     ...         ...\n",
            "Saint Petersburg  2013-05-01  Russia      12.355\n",
            "Saint Petersburg  2013-06-01  Russia      17.185\n",
            "Saint Petersburg  2013-07-01  Russia      17.234\n",
            "Saint Petersburg  2013-08-01  Russia      17.153\n",
            "Saint Petersburg  2013-09-01  Russia         NaN\n",
            "\n",
            "[330 rows x 3 columns]\n"
          ]
        }
      ]
    },
    {
      "cell_type": "markdown",
      "metadata": {
        "id": "FdJQW2vG_aVI"
      },
      "source": [
        "# **Setting multi-level indexes**\n",
        "\n",
        "Indexes can also be made out of multiple columns, forming a multi-level index (sometimes called a ***hierarchical index***). There is a trade-off to using these.\n",
        "\n",
        "The benefit is that multi-level indexes make it more natural to reason about nested categorical variables. For example, in a clinical trial, you might have control and treatment groups. Then each test subject belongs to one or another group, and we can say that a test subject is nested inside the treatment group. Similarly, in the temperature dataset, the city is located in the country, so we can say a city is nested inside the country.\n",
        "\n",
        "The main downside is that the code for manipulating indexes is different from the code for manipulating columns, so you have to learn two syntaxes and keep track of how your data is represented.\n",
        "\n",
        "\n",
        "* Set the index of `temperatures` to the `\"country\"` and `\"city\"` columns, and assign this to `temperatures_ind`.\n",
        "* Specify two country/city pairs to keep: `\"Brazil\"`/`\"Rio De Janeiro\"` and `\"Pakistan\"`/`\"Lahore\"`, assigning to `rows_to_keep`.\n",
        "* Print and subset `temperatures_ind` for `rows_to_keep` using `.loc[]`."
      ]
    },
    {
      "cell_type": "code",
      "metadata": {
        "colab": {
          "base_uri": "https://localhost:8080/"
        },
        "id": "q_tWROOE_R17",
        "outputId": "0f4961e3-977c-4e20-8f0a-2a831de357d4"
      },
      "source": [
        "import pandas as pd\n",
        "\n",
        "temperatures = pd.read_csv(\"temperatures.csv\", index_col=[0])\n",
        "\n",
        "# Index temperatures by country & city\n",
        "temperatures_ind = temperatures.set_index([\"country\", \"city\"])\n",
        "\n",
        "# List of tuples: Brazil, Rio De Janeiro & Pakistan, Lahore\n",
        "rows_to_keep = [(\"Brazil\", \"Rio De Janeiro\"), (\"Pakistan\", \"Lahore\")]\n",
        "\n",
        "# Subset for rows to keep\n",
        "print(temperatures_ind.loc[rows_to_keep])"
      ],
      "execution_count": 3,
      "outputs": [
        {
          "output_type": "stream",
          "name": "stdout",
          "text": [
            "                               date  avg_temp_c\n",
            "country  city                                  \n",
            "Brazil   Rio De Janeiro  2000-01-01      25.974\n",
            "         Rio De Janeiro  2000-02-01      26.699\n",
            "         Rio De Janeiro  2000-03-01      26.270\n",
            "         Rio De Janeiro  2000-04-01      25.750\n",
            "         Rio De Janeiro  2000-05-01      24.356\n",
            "...                             ...         ...\n",
            "Pakistan Lahore          2013-05-01      33.457\n",
            "         Lahore          2013-06-01      34.456\n",
            "         Lahore          2013-07-01      33.279\n",
            "         Lahore          2013-08-01      31.511\n",
            "         Lahore          2013-09-01         NaN\n",
            "\n",
            "[330 rows x 2 columns]\n"
          ]
        }
      ]
    },
    {
      "cell_type": "markdown",
      "metadata": {
        "id": "ygm7WaWkAzss"
      },
      "source": [
        "# **Sorting by index values**\n",
        "\n",
        "Previously, you changed the order of the rows in a DataFrame by calling `.sort_values()`. It's also useful to be able to sort by elements in the index. For this, you need to use `.sort_index()`.\n",
        "\n",
        "* Sort `temperatures_ind` by the index values.\n",
        "* Sort `temperatures_ind` by the index values at the `\"city\"` level.\n",
        "* Sort `temperatures_ind` by ascending `country` then descending `city`."
      ]
    },
    {
      "cell_type": "code",
      "metadata": {
        "colab": {
          "base_uri": "https://localhost:8080/"
        },
        "id": "3Bj8dpDQAwST",
        "outputId": "0386813f-20e3-4f75-abb2-d15850c4c7fe"
      },
      "source": [
        "import pandas as pd\n",
        "\n",
        "temperatures = pd.read_csv(\"temperatures.csv\", index_col=[0])\n",
        "temperatures_ind = temperatures.set_index([\"country\", \"city\"])\n",
        "\n",
        "# Sort temperatures_ind by index values\n",
        "print(temperatures_ind.sort_index(), \"\\n\\n\")\n",
        "\n",
        "# Sort temperatures_ind by index values at the city level\n",
        "print(temperatures_ind.sort_index(level=\"city\"), \"\\n\\n\")\n",
        "\n",
        "# Sort temperatures_ind by country then descending city\n",
        "print(temperatures_ind.sort_index(ascending=[True, False]))"
      ],
      "execution_count": 5,
      "outputs": [
        {
          "output_type": "stream",
          "name": "stdout",
          "text": [
            "                          date  avg_temp_c\n",
            "country     city                          \n",
            "Afghanistan Kabul   2000-01-01       3.326\n",
            "            Kabul   2000-02-01       3.454\n",
            "            Kabul   2000-03-01       9.612\n",
            "            Kabul   2000-04-01      17.925\n",
            "            Kabul   2000-05-01      24.658\n",
            "...                        ...         ...\n",
            "Zimbabwe    Harare  2013-05-01      18.298\n",
            "            Harare  2013-06-01      17.020\n",
            "            Harare  2013-07-01      16.299\n",
            "            Harare  2013-08-01      19.232\n",
            "            Harare  2013-09-01         NaN\n",
            "\n",
            "[16500 rows x 2 columns] \n",
            "\n",
            "\n",
            "                             date  avg_temp_c\n",
            "country       city                           \n",
            "Côte D'Ivoire Abidjan  2000-01-01      27.293\n",
            "              Abidjan  2000-02-01      27.685\n",
            "              Abidjan  2000-03-01      29.061\n",
            "              Abidjan  2000-04-01      28.162\n",
            "              Abidjan  2000-05-01      27.547\n",
            "...                           ...         ...\n",
            "China         Xian     2013-05-01      18.979\n",
            "              Xian     2013-06-01      23.522\n",
            "              Xian     2013-07-01      25.251\n",
            "              Xian     2013-08-01      24.528\n",
            "              Xian     2013-09-01         NaN\n",
            "\n",
            "[16500 rows x 2 columns] \n",
            "\n",
            "\n",
            "                          date  avg_temp_c\n",
            "country     city                          \n",
            "Afghanistan Kabul   2000-01-01       3.326\n",
            "            Kabul   2000-02-01       3.454\n",
            "            Kabul   2000-03-01       9.612\n",
            "            Kabul   2000-04-01      17.925\n",
            "            Kabul   2000-05-01      24.658\n",
            "...                        ...         ...\n",
            "Zimbabwe    Harare  2013-05-01      18.298\n",
            "            Harare  2013-06-01      17.020\n",
            "            Harare  2013-07-01      16.299\n",
            "            Harare  2013-08-01      19.232\n",
            "            Harare  2013-09-01         NaN\n",
            "\n",
            "[16500 rows x 2 columns]\n"
          ]
        }
      ]
    },
    {
      "cell_type": "markdown",
      "metadata": {
        "id": "fUs0wsCcJkz9"
      },
      "source": [
        "# **Slicing index values** \n",
        "\n",
        "Slicing lets you select consecutive elements of an object using `first:last` syntax. DataFrames can be sliced by index values or by row/column number; we'll start with the first case. This involves slicing inside the `.loc[]` method.\n",
        "\n",
        "Compared to slicing lists, there are a few things to remember.\n",
        "\n",
        "1. You can only slice an index if the index is sorted (using `.sort_index()`).\n",
        "2. To slice at the outer level, `first` and `last` can be strings.\n",
        "3. To slice at inner levels, `first` and `last` should be tuples.\n",
        "4. If you pass a single slice to `.loc[]`, it will slice the rows.\n",
        "\n",
        "* Sort the index of `temperatures_ind`.\n",
        "* Use slicing with `.loc[]` to get these subsets:\n",
        "  * from `Pakistan` to `Russia`.\n",
        "  * from `Lahore` to `Moscow`. (This will return nonsense.)\n",
        "  * from `Pakistan`, `Lahore` to `Russia`, `Moscow`."
      ]
    },
    {
      "cell_type": "code",
      "metadata": {
        "colab": {
          "base_uri": "https://localhost:8080/"
        },
        "id": "lI1U3FiqCMOj",
        "outputId": "cdb533b6-661f-4cf9-b739-402a7e2a4c83"
      },
      "source": [
        "import pandas as pd\n",
        "\n",
        "temperatures = pd.read_csv(\"temperatures.csv\", index_col=[0])\n",
        "temperatures_ind = temperatures.set_index([\"country\", \"city\"])\n",
        "\n",
        "# Sort the index of temperatures_ind\n",
        "temperatures_srt = temperatures_ind.sort_index()\n",
        "\n",
        "# Subset rows from Pakistan to Russia\n",
        "print(temperatures_srt.loc[\"Pakistan\": \"Russia\"], \"\\n\\n\")\n",
        "\n",
        "# Try to subset rows from Lahore to Moscow\n",
        "print(temperatures_srt.loc[\"Lahore\": \"Moscow\"], \"\\n\\n\")\n",
        "\n",
        "# Subset rows from Pakistan, Lahore to Russia, Moscow\n",
        "print(temperatures_srt.loc[(\"Pakistan\", \"Lahore\"): (\"Russia\", \"Moscow\")])"
      ],
      "execution_count": 8,
      "outputs": [
        {
          "output_type": "stream",
          "name": "stdout",
          "text": [
            "                                 date  avg_temp_c\n",
            "country  city                                    \n",
            "Pakistan Faisalabad        2000-01-01      12.792\n",
            "         Faisalabad        2000-02-01      14.339\n",
            "         Faisalabad        2000-03-01      20.309\n",
            "         Faisalabad        2000-04-01      29.072\n",
            "         Faisalabad        2000-05-01      34.845\n",
            "...                               ...         ...\n",
            "Russia   Saint Petersburg  2013-05-01      12.355\n",
            "         Saint Petersburg  2013-06-01      17.185\n",
            "         Saint Petersburg  2013-07-01      17.234\n",
            "         Saint Petersburg  2013-08-01      17.153\n",
            "         Saint Petersburg  2013-09-01         NaN\n",
            "\n",
            "[1155 rows x 2 columns] \n",
            "\n",
            "\n",
            "                          date  avg_temp_c\n",
            "country city                              \n",
            "Mexico  Mexico      2000-01-01      12.694\n",
            "        Mexico      2000-02-01      14.677\n",
            "        Mexico      2000-03-01      17.376\n",
            "        Mexico      2000-04-01      18.294\n",
            "        Mexico      2000-05-01      18.562\n",
            "...                        ...         ...\n",
            "Morocco Casablanca  2013-05-01      19.217\n",
            "        Casablanca  2013-06-01      23.649\n",
            "        Casablanca  2013-07-01      27.488\n",
            "        Casablanca  2013-08-01      27.952\n",
            "        Casablanca  2013-09-01         NaN\n",
            "\n",
            "[330 rows x 2 columns] \n",
            "\n",
            "\n",
            "                       date  avg_temp_c\n",
            "country  city                          \n",
            "Pakistan Lahore  2000-01-01      12.792\n",
            "         Lahore  2000-02-01      14.339\n",
            "         Lahore  2000-03-01      20.309\n",
            "         Lahore  2000-04-01      29.072\n",
            "         Lahore  2000-05-01      34.845\n",
            "...                     ...         ...\n",
            "Russia   Moscow  2013-05-01      16.152\n",
            "         Moscow  2013-06-01      18.718\n",
            "         Moscow  2013-07-01      18.136\n",
            "         Moscow  2013-08-01      17.485\n",
            "         Moscow  2013-09-01         NaN\n",
            "\n",
            "[660 rows x 2 columns]\n"
          ]
        }
      ]
    },
    {
      "cell_type": "markdown",
      "metadata": {
        "id": "E3AXua90Lwr3"
      },
      "source": [
        "# **Slicing in both directions**\n",
        "\n",
        "You've seen slicing DataFrames by rows and by columns, but since DataFrames are two-dimensional objects, it is often natural to slice both dimensions at once. That is, by passing two arguments to `.loc[]`, you can subset by rows and columns in one go.\n",
        "\n",
        "* Use `.loc[]` slicing to subset rows from `India`, `Hyderabad` to `Iraq`, `Baghdad`.\n",
        "* Use `.loc[]` slicing to subset columns from `date` to `avg_temp_c`.\n",
        "* Slice in both directions at once from `Hyderabad` to `Baghdad`, and `date` to `avg_temp_c`."
      ]
    },
    {
      "cell_type": "code",
      "metadata": {
        "colab": {
          "base_uri": "https://localhost:8080/"
        },
        "id": "8reupXlLLiag",
        "outputId": "eb9fe31b-5bed-43f5-ed6a-290820637801"
      },
      "source": [
        "import pandas as pd\n",
        "\n",
        "temperatures = pd.read_csv(\"temperatures.csv\", index_col=[0])\n",
        "temperatures_ind = temperatures.set_index([\"country\", \"city\"])\n",
        "temperatures_srt = temperatures_ind.sort_index()\n",
        "\n",
        "\n",
        "# Subset rows from India, Hyderabad to Iraq, Baghdad\n",
        "print(temperatures_srt.loc[(\"India\", \"Hyderabad\"): (\"Iraq\", \"Baghdad\")])\n",
        "\n",
        "# Subset columns from date to avg_temp_c\n",
        "print(temperatures_srt.loc[:, \"date\": \"avg_temp_c\"])\n",
        "\n",
        "# Subset in both directions at once\n",
        "print(temperatures_srt.loc[(\"India\", \"Hyderabad\"): (\"Iraq\", \"Baghdad\"), \"date\": \"avg_temp_c\"])"
      ],
      "execution_count": 9,
      "outputs": [
        {
          "output_type": "stream",
          "name": "stdout",
          "text": [
            "                         date  avg_temp_c\n",
            "country city                             \n",
            "India   Hyderabad  2000-01-01      23.779\n",
            "        Hyderabad  2000-02-01      25.826\n",
            "        Hyderabad  2000-03-01      28.821\n",
            "        Hyderabad  2000-04-01      32.698\n",
            "        Hyderabad  2000-05-01      32.438\n",
            "...                       ...         ...\n",
            "Iraq    Baghdad    2013-05-01      28.673\n",
            "        Baghdad    2013-06-01      33.803\n",
            "        Baghdad    2013-07-01      36.392\n",
            "        Baghdad    2013-08-01      35.463\n",
            "        Baghdad    2013-09-01         NaN\n",
            "\n",
            "[2145 rows x 2 columns]\n",
            "                          date  avg_temp_c\n",
            "country     city                          \n",
            "Afghanistan Kabul   2000-01-01       3.326\n",
            "            Kabul   2000-02-01       3.454\n",
            "            Kabul   2000-03-01       9.612\n",
            "            Kabul   2000-04-01      17.925\n",
            "            Kabul   2000-05-01      24.658\n",
            "...                        ...         ...\n",
            "Zimbabwe    Harare  2013-05-01      18.298\n",
            "            Harare  2013-06-01      17.020\n",
            "            Harare  2013-07-01      16.299\n",
            "            Harare  2013-08-01      19.232\n",
            "            Harare  2013-09-01         NaN\n",
            "\n",
            "[16500 rows x 2 columns]\n",
            "                         date  avg_temp_c\n",
            "country city                             \n",
            "India   Hyderabad  2000-01-01      23.779\n",
            "        Hyderabad  2000-02-01      25.826\n",
            "        Hyderabad  2000-03-01      28.821\n",
            "        Hyderabad  2000-04-01      32.698\n",
            "        Hyderabad  2000-05-01      32.438\n",
            "...                       ...         ...\n",
            "Iraq    Baghdad    2013-05-01      28.673\n",
            "        Baghdad    2013-06-01      33.803\n",
            "        Baghdad    2013-07-01      36.392\n",
            "        Baghdad    2013-08-01      35.463\n",
            "        Baghdad    2013-09-01         NaN\n",
            "\n",
            "[2145 rows x 2 columns]\n"
          ]
        }
      ]
    },
    {
      "cell_type": "markdown",
      "metadata": {
        "id": "6gA5LUBrNpMk"
      },
      "source": [
        "# **Slicing time series**\n",
        "\n",
        "Slicing is particularly useful for time series since it's a common thing to want to filter for data within a date range. Add the date column to the index, then use `.loc[]` to perform the subsetting. <ins>***The important thing to remember is to keep your dates in ISO 8601 format***</ins>, that is, `\"yyyy-mm-dd\"` for year-month-day, `\"yyyy-mm\"` for year-month, and `\"yyyy\"` for year.\n",
        "\n",
        "Recall from Chapter 1 that you can combine multiple Boolean conditions using logical operators, such as `&`. To do so in one line of code, you'll need to add parentheses `()` around each condition.\n",
        "\n",
        "* Use Boolean conditions, not `.isin()` or `.loc[]`, and the full date `\"yyyy-mm-dd\"`, to subset `temperatures` for rows in `2010` and `2011` and print the results.\n",
        "* Set the index to the `date` column and sort it.\n",
        "* Use `.loc[]` to subset `temperatures_ind` for rows in `2010` and `2011`.\n",
        "* Use `.loc[]` to subset `temperatures_ind` for rows from Aug 2010 to Feb 2011."
      ]
    },
    {
      "cell_type": "code",
      "metadata": {
        "colab": {
          "base_uri": "https://localhost:8080/"
        },
        "id": "sgUXmz8lNXRW",
        "outputId": "b135cfa4-8406-4550-e133-64c778997f24"
      },
      "source": [
        "import pandas as pd\n",
        "\n",
        "temperatures = pd.read_csv(\"temperatures.csv\", index_col=[0])\n",
        "\n",
        "# Use Boolean conditions to subset temperatures for rows in 2010 and 2011\n",
        "temperatures_bool = temperatures[(temperatures[\"date\"] >= \"2010-01-01\") & (temperatures[\"date\"] <= \"2011-12-31\")]\n",
        "print(temperatures_bool)\n",
        "\n",
        "# Set date as the index and sort the index\n",
        "temperatures_ind = temperatures.set_index(\"date\").sort_index()\n",
        "\n",
        "# Use .loc[] to subset temperatures_ind for rows in 2010 and 2011\n",
        "print(temperatures_ind.loc[\"2010\":\"2011\"], \"\\n\\n\")\n",
        "\n",
        "# Use .loc[] to subset temperatures_ind for rows from Aug 2010 to Feb 2011\n",
        "print(temperatures_ind.loc[\"2010-08\":\"2011-02\"])"
      ],
      "execution_count": 14,
      "outputs": [
        {
          "output_type": "stream",
          "name": "stdout",
          "text": [
            "             date     city        country  avg_temp_c\n",
            "120    2010-01-01  Abidjan  Côte D'Ivoire      28.270\n",
            "121    2010-02-01  Abidjan  Côte D'Ivoire      29.262\n",
            "122    2010-03-01  Abidjan  Côte D'Ivoire      29.596\n",
            "123    2010-04-01  Abidjan  Côte D'Ivoire      29.068\n",
            "124    2010-05-01  Abidjan  Côte D'Ivoire      28.258\n",
            "...           ...      ...            ...         ...\n",
            "16474  2011-08-01     Xian          China      23.069\n",
            "16475  2011-09-01     Xian          China      16.775\n",
            "16476  2011-10-01     Xian          China      12.587\n",
            "16477  2011-11-01     Xian          China       7.543\n",
            "16478  2011-12-01     Xian          China      -0.490\n",
            "\n",
            "[2400 rows x 4 columns]\n",
            "                  city    country  avg_temp_c\n",
            "date                                         \n",
            "2010-01-01  Faisalabad   Pakistan      11.810\n",
            "2010-01-01   Melbourne  Australia      20.016\n",
            "2010-01-01   Chongqing      China       7.921\n",
            "2010-01-01   São Paulo     Brazil      23.738\n",
            "2010-01-01   Guangzhou      China      14.136\n",
            "...                ...        ...         ...\n",
            "2010-12-01     Jakarta  Indonesia      26.602\n",
            "2010-12-01       Gizeh      Egypt      16.530\n",
            "2010-12-01      Nagpur      India      19.120\n",
            "2010-12-01      Sydney  Australia      19.559\n",
            "2010-12-01    Salvador     Brazil      26.265\n",
            "\n",
            "[1200 rows x 3 columns] \n",
            "\n",
            "\n",
            "                     city        country  avg_temp_c\n",
            "date                                                \n",
            "2010-08-01       Calcutta          India      30.226\n",
            "2010-08-01           Pune          India      24.941\n",
            "2010-08-01          Izmir         Turkey      28.352\n",
            "2010-08-01        Tianjin          China      25.543\n",
            "2010-08-01         Manila    Philippines      27.101\n",
            "...                   ...            ...         ...\n",
            "2011-01-01  Dar Es Salaam       Tanzania      28.541\n",
            "2011-01-01        Nairobi          Kenya      17.768\n",
            "2011-01-01    Addis Abeba       Ethiopia      17.708\n",
            "2011-01-01        Nanjing          China       0.144\n",
            "2011-01-01       New York  United States      -4.463\n",
            "\n",
            "[600 rows x 3 columns]\n"
          ]
        }
      ]
    },
    {
      "cell_type": "markdown",
      "metadata": {
        "id": "cirwDkLGQ5HG"
      },
      "source": [
        "Be careful when using Boolean conditions to subset dates. Using a check like `df['date'] == '2011'` or `df['date'] <= '2011'` will not check for all dates in 2011, and will only check for the date 2011-01-01 (in pandas 0.25.3 on DataCamp Browser) and will omit this date in pandas 1.1.5.\n",
        "\n",
        "Write out the full date when using Boolean conditions (e.g. 2011-12-31)\n",
        "\n",
        "### Be careful here.  `.loc` in recent pandas doesn't return anything in the last index date position.\n",
        "\n",
        "# **Subsetting by row/column number**\n",
        "The most common ways to subset rows are the ways we've previously discussed: using a Boolean condition or by index labels. However, it is also occasionally useful to pass row numbers.\n",
        "\n",
        "This is done using `.iloc[]`, and like `.loc[]`, it can take two arguments to let you subset by rows and columns.\n",
        "\n",
        "Use `.iloc[]` on temperatures to take subsets.\n",
        "\n",
        "* Get the 23rd row, 2nd column (index positions 22 and 1).\n",
        "* Get the first 5 rows (index positions 0 to 5).\n",
        "* Get all rows, columns 3 and 4 (index positions 2 to 4).\n",
        "* Get the first 5 rows, columns 3 and 4."
      ]
    },
    {
      "cell_type": "code",
      "metadata": {
        "colab": {
          "base_uri": "https://localhost:8080/"
        },
        "id": "E9OjkFFDRKmz",
        "outputId": "f10ae392-cb9c-4cc4-dda3-2dbfe0993483"
      },
      "source": [
        "import pandas as pd\n",
        "\n",
        "temperatures = pd.read_csv(\"temperatures.csv\", index_col=[0])\n",
        "\n",
        "\n",
        "# Get 23rd row, 2nd column (index 22, 1)\n",
        "print(temperatures.iloc[22, 1])\n",
        "\n",
        "# Use slicing to get the first 5 rows\n",
        "print(temperatures.iloc[:5])\n",
        "\n",
        "# Use slicing to get columns 3 to 4\n",
        "print(temperatures.iloc[:, 2:4])\n",
        "\n",
        "# Use slicing in both directions at once\n",
        "print(temperatures.iloc[:5, 2:4])"
      ],
      "execution_count": 4,
      "outputs": [
        {
          "output_type": "stream",
          "name": "stdout",
          "text": [
            "Abidjan\n",
            "         date     city        country  avg_temp_c\n",
            "0  2000-01-01  Abidjan  Côte D'Ivoire      27.293\n",
            "1  2000-02-01  Abidjan  Côte D'Ivoire      27.685\n",
            "2  2000-03-01  Abidjan  Côte D'Ivoire      29.061\n",
            "3  2000-04-01  Abidjan  Côte D'Ivoire      28.162\n",
            "4  2000-05-01  Abidjan  Côte D'Ivoire      27.547\n",
            "             country  avg_temp_c\n",
            "0      Côte D'Ivoire      27.293\n",
            "1      Côte D'Ivoire      27.685\n",
            "2      Côte D'Ivoire      29.061\n",
            "3      Côte D'Ivoire      28.162\n",
            "4      Côte D'Ivoire      27.547\n",
            "...              ...         ...\n",
            "16495          China      18.979\n",
            "16496          China      23.522\n",
            "16497          China      25.251\n",
            "16498          China      24.528\n",
            "16499          China         NaN\n",
            "\n",
            "[16500 rows x 2 columns]\n",
            "         country  avg_temp_c\n",
            "0  Côte D'Ivoire      27.293\n",
            "1  Côte D'Ivoire      27.685\n",
            "2  Côte D'Ivoire      29.061\n",
            "3  Côte D'Ivoire      28.162\n",
            "4  Côte D'Ivoire      27.547\n"
          ]
        }
      ]
    },
    {
      "cell_type": "markdown",
      "metadata": {
        "id": "EH4YKycCaWFM"
      },
      "source": [
        "# **Pivot temperature by city and year**\n",
        "\n",
        "It's interesting to see how temperatures for each city change over time—looking at every month results in a big table, which can be tricky to reason about. Instead, let's look at how temperatures change by year.\n",
        "\n",
        "You can access the components of a date (year, month and day) using code of the form \n",
        "\n",
        "```\n",
        "dataframe[\"column\"].dt.component\n",
        "```\n",
        "\n",
        "For example, the month component is \n",
        "\n",
        "```\n",
        "dataframe[\"column\"].dt.month\n",
        "```\n",
        "The year component is \n",
        "\n",
        "```\n",
        "dataframe[\"column\"].dt.year\n",
        "```\n",
        "\n",
        "Once you have the year column, you can create a pivot table with the data aggregated by city and year\n",
        "\n",
        "* Add a `year` column to `temperatures`, from the `year` component of the `date` column.\n",
        "* Make a pivot table of the `avg_temp_c` column, with `country` and `city` as rows, and `year` as columns. Assign to `temp_by_country_city_vs_year`, and *look at the result*."
      ]
    },
    {
      "cell_type": "code",
      "metadata": {
        "colab": {
          "base_uri": "https://localhost:8080/"
        },
        "id": "RHCD5cW2U8q2",
        "outputId": "1d815202-74c1-47a3-a6cb-0c164c103378"
      },
      "source": [
        "import pandas as pd\n",
        "\n",
        "temperatures = pd.read_csv(\"temperatures.csv\", index_col=[0])\n",
        "temperatures[\"date\"] = pd.to_datetime(temperatures[\"date\"])  # จะใช้คุณสมบัติ .dt ได้ ต้องแปลงคอลัมน์นี้เป็น datetime เสียก่อน\n",
        "\n",
        "# Add a year column to temperatures\n",
        "temperatures[\"year\"] = temperatures[\"date\"].dt.year\n",
        "\n",
        "# Pivot avg_temp_c by country and city vs year\n",
        "temp_by_country_city_vs_year = temperatures.pivot_table(values=\"avg_temp_c\", index=[\"country\", \"city\"], columns=\"year\")\n",
        "\n",
        "# See the result\n",
        "print(temp_by_country_city_vs_year)"
      ],
      "execution_count": 8,
      "outputs": [
        {
          "output_type": "stream",
          "name": "stdout",
          "text": [
            "year                                 2000       2001  ...       2012       2013\n",
            "country       city                                    ...                      \n",
            "Afghanistan   Kabul             15.822667  15.847917  ...  14.510333  16.206125\n",
            "Angola        Luanda            24.410333  24.427083  ...  24.240083  24.553875\n",
            "Australia     Melbourne         14.320083  14.180000  ...  14.268667  14.741500\n",
            "              Sydney            17.567417  17.854500  ...  17.474333  18.089750\n",
            "Bangladesh    Dhaka             25.905250  25.931250  ...  26.283583  26.587000\n",
            "...                                   ...        ...  ...        ...        ...\n",
            "United States Chicago           11.089667  11.703083  ...  12.821250  11.586889\n",
            "              Los Angeles       16.643333  16.466250  ...  17.089583  18.120667\n",
            "              New York           9.969083  10.931000  ...  11.971500  12.163889\n",
            "Vietnam       Ho Chi Minh City  27.588917  27.831750  ...  28.248750  28.455000\n",
            "Zimbabwe      Harare            20.283667  20.861000  ...  20.523333  19.756500\n",
            "\n",
            "[100 rows x 14 columns]\n"
          ]
        }
      ]
    },
    {
      "cell_type": "markdown",
      "metadata": {
        "id": "3D9GTP-lcQrS"
      },
      "source": [
        "# **Subsetting pivot tables**\n",
        "\n",
        "A pivot table is just a DataFrame with sorted indexes, so the techniques you have learned already can be used to subset them. In particular, the `.loc[]` + slicing combination is often helpful.\n",
        "\n",
        "Use `.loc[]` on `temp_by_country_city_vs_year` to take subsets.\n",
        "\n",
        "* From `Egypt` to `India`.\n",
        "* From `Egypt`, `Cairo` to `India`, `Delhi`.\n",
        "* From `Egypt`, `Cairo` to `India`, `Delhi`, and `2005` to `2010`."
      ]
    },
    {
      "cell_type": "code",
      "metadata": {
        "colab": {
          "base_uri": "https://localhost:8080/"
        },
        "id": "NYE5WOv5bu8V",
        "outputId": "0addc413-54fb-4ee9-dfad-844c6f86f7e0"
      },
      "source": [
        "import pandas as pd\n",
        "\n",
        "temperatures = pd.read_csv(\"temperatures.csv\", index_col=[0])\n",
        "temperatures[\"date\"] = pd.to_datetime(temperatures[\"date\"])  # จะใช้คุณสมบัติ .dt ได้ ต้องแปลงคอลัมน์นี้เป็น datetime เสียก่อน\n",
        "temperatures[\"year\"] = temperatures[\"date\"].dt.year\n",
        "temp_by_country_city_vs_year = temperatures.pivot_table(values=\"avg_temp_c\", index=[\"country\", \"city\"], columns=\"year\")\n",
        "\n",
        "# Subset for Egypt to India\n",
        "print(temp_by_country_city_vs_year.loc[\"Egypt\": \"India\"], \"\\n\\n\")\n",
        "\n",
        "# Subset for Egypt, Cairo to India, Delhi\n",
        "print(temp_by_country_city_vs_year.loc[(\"Egypt\", \"Cairo\"): (\"India\", \"Delhi\")], \"\\n\\n\")\n",
        "\n",
        "# Subset in both directions at once\n",
        "print(temp_by_country_city_vs_year.loc[(\"Egypt\", \"Cairo\"): (\"India\", \"Delhi\"), \"2005\":\"2010\"])"
      ],
      "execution_count": 10,
      "outputs": [
        {
          "output_type": "stream",
          "name": "stdout",
          "text": [
            "year                       2000       2001  ...       2012       2013\n",
            "country  city                               ...                      \n",
            "Egypt    Alexandria   20.744500  21.454583  ...  21.552583  21.438500\n",
            "         Cairo        21.486167  22.330833  ...  22.484250  22.907000\n",
            "         Gizeh        21.486167  22.330833  ...  22.484250  22.907000\n",
            "Ethiopia Addis Abeba  18.241250  18.296417  ...  18.448583  19.539000\n",
            "France   Paris        11.739667  11.371250  ...  11.219917  11.011625\n",
            "Germany  Berlin       10.963667   9.690250  ...   9.964333  10.121500\n",
            "India    Ahmadabad    27.436000  27.198083  ...  27.027250  27.608625\n",
            "         Bangalore    25.337917  25.528167  ...  26.042333  26.610500\n",
            "         Bombay       27.203667  27.243667  ...  27.192500  26.713000\n",
            "         Calcutta     26.491333  26.515167  ...  26.935083  27.369250\n",
            "         Delhi        26.048333  25.862917  ...  25.889417  26.709250\n",
            "         Hyderabad    27.231833  27.555167  ...  28.018583  28.851250\n",
            "         Jaipur       26.430250  26.023000  ...  25.884500  26.844125\n",
            "         Kanpur       25.353917  25.326500  ...  25.445417  26.121250\n",
            "         Lakhnau      25.353917  25.326500  ...  25.445417  26.121250\n",
            "         Madras       28.811667  29.162917  ...  29.778417  30.411750\n",
            "         Nagpur       26.181417  26.321667  ...  26.327917  27.112375\n",
            "         New Delhi    26.048333  25.862917  ...  25.889417  26.709250\n",
            "         Pune         25.110917  25.337833  ...  25.296833  25.847625\n",
            "         Surat        27.029000  26.897250  ...  26.889250  27.437750\n",
            "\n",
            "[20 rows x 14 columns] \n",
            "\n",
            "\n",
            "year                       2000       2001  ...       2012       2013\n",
            "country  city                               ...                      \n",
            "Egypt    Cairo        21.486167  22.330833  ...  22.484250  22.907000\n",
            "         Gizeh        21.486167  22.330833  ...  22.484250  22.907000\n",
            "Ethiopia Addis Abeba  18.241250  18.296417  ...  18.448583  19.539000\n",
            "France   Paris        11.739667  11.371250  ...  11.219917  11.011625\n",
            "Germany  Berlin       10.963667   9.690250  ...   9.964333  10.121500\n",
            "India    Ahmadabad    27.436000  27.198083  ...  27.027250  27.608625\n",
            "         Bangalore    25.337917  25.528167  ...  26.042333  26.610500\n",
            "         Bombay       27.203667  27.243667  ...  27.192500  26.713000\n",
            "         Calcutta     26.491333  26.515167  ...  26.935083  27.369250\n",
            "         Delhi        26.048333  25.862917  ...  25.889417  26.709250\n",
            "\n",
            "[10 rows x 14 columns] \n",
            "\n",
            "\n",
            "year                       2005       2006  ...       2009       2010\n",
            "country  city                               ...                      \n",
            "Egypt    Cairo        22.006500  22.050000  ...  22.625000  23.718250\n",
            "         Gizeh        22.006500  22.050000  ...  22.625000  23.718250\n",
            "Ethiopia Addis Abeba  18.312833  18.427083  ...  18.765333  18.298250\n",
            "France   Paris        11.552917  11.788500  ...  11.464083  10.409833\n",
            "Germany  Berlin        9.919083  10.545333  ...  10.062500   8.606833\n",
            "India    Ahmadabad    26.828083  27.282833  ...  28.095833  28.017833\n",
            "         Bangalore    25.476500  25.418250  ...  25.725750  25.705250\n",
            "         Bombay       27.035750  27.381500  ...  27.844500  27.765417\n",
            "         Calcutta     26.729167  26.986250  ...  27.153250  27.288833\n",
            "         Delhi        25.716083  26.365917  ...  26.554250  26.520250\n",
            "\n",
            "[10 rows x 6 columns]\n"
          ]
        }
      ]
    },
    {
      "cell_type": "markdown",
      "metadata": {
        "id": "Jfttmsbkd5cO"
      },
      "source": [
        "# **Calculating on a pivot table**\n",
        "\n",
        "Pivot tables are filled with summary statistics, but they are only a first step to finding something insightful. Often you'll need to perform further calculations on them. A common thing to do is to find the rows or columns where the highest or lowest value occurs.\n",
        "\n",
        "Recall from Chapter 1 that you can easily subset a Series or DataFrame to find rows of interest using a logical condition inside of square brackets. For example: `series[series > value]`.\n",
        "\n",
        "* Calculate the mean temperature for each year, assigning to `mean_temp_by_year`.\n",
        "* Filter `mean_temp_by_year` for the year that had the highest mean temperature.\n",
        "* Calculate the mean temperature for each city (across columns), assigning to `mean_temp_by_city`.\n",
        "* Filter `mean_temp_by_city` for the city that had the lowest mean temperature."
      ]
    },
    {
      "cell_type": "code",
      "metadata": {
        "colab": {
          "base_uri": "https://localhost:8080/"
        },
        "id": "uUrUdXmJb3vv",
        "outputId": "ebe8e850-3ea0-4f0e-84e5-2874f4508434"
      },
      "source": [
        "import pandas as pd\n",
        "\n",
        "temperatures = pd.read_csv(\"temperatures.csv\", index_col=[0])\n",
        "temperatures[\"date\"] = pd.to_datetime(temperatures[\"date\"])  # จะใช้คุณสมบัติ .dt ได้ ต้องแปลงคอลัมน์นี้เป็น datetime เสียก่อน\n",
        "temperatures[\"year\"] = temperatures[\"date\"].dt.year\n",
        "temp_by_country_city_vs_year = temperatures.pivot_table(values=\"avg_temp_c\", index=[\"country\", \"city\"], columns=\"year\")\n",
        "\n",
        "# Get the worldwide mean temp by year\n",
        "mean_temp_by_year = temp_by_country_city_vs_year.mean(axis=\"index\")\n",
        "\n",
        "# Filter for the year that had the highest mean temp\n",
        "print(mean_temp_by_year[mean_temp_by_year >= mean_temp_by_year.max()], \"\\n\\n\")\n",
        "\n",
        "# Get the mean temp by city\n",
        "mean_temp_by_city = temp_by_country_city_vs_year.mean(axis=\"columns\")\n",
        "\n",
        "# Filter for the city that had the lowest mean temp\n",
        "print(mean_temp_by_city[mean_temp_by_city <= mean_temp_by_city.min()])"
      ],
      "execution_count": 11,
      "outputs": [
        {
          "output_type": "stream",
          "name": "stdout",
          "text": [
            "year\n",
            "2013    20.312285\n",
            "dtype: float64 \n",
            "\n",
            "\n",
            "country  city  \n",
            "China    Harbin    4.876551\n",
            "dtype: float64\n"
          ]
        }
      ]
    },
    {
      "cell_type": "markdown",
      "metadata": {
        "id": "p6G5f0iYPrpw"
      },
      "source": [
        "# **Which avocado size is most popular? (Bar Plot)**\n",
        "\n",
        "Bar plots are great for revealing relationships between categorical (size) and numeric (number sold) variables, but you'll often have to manipulate your data first in order to get the numbers you need for plotting.\n",
        "\n",
        "\n",
        "* Print the head of the `avocados` dataset. What columns are available?\n",
        "* For each avocado size group, calculate the total number sold, storing as `nb_sold_by_size`.\n",
        "* Create a bar plot of the number of avocados sold by size.\n",
        "* Show the plot."
      ]
    },
    {
      "cell_type": "code",
      "metadata": {
        "colab": {
          "base_uri": "https://localhost:8080/",
          "height": 439
        },
        "id": "eiZJEpHZgGAS",
        "outputId": "aafc74f2-c285-4f47-fee2-4212a4ed04f2"
      },
      "source": [
        "import pandas as pd\n",
        "import matplotlib.pyplot as plt\n",
        "\n",
        "avocados = pd.read_pickle(\"avoplotto.pkl\")\n",
        "\n",
        "# Look at the first few rows of data\n",
        "print(avocados.head())\n",
        "\n",
        "# Get the total number of avocados sold of each size\n",
        "nb_sold_by_size = avocados.groupby(\"size\")[\"nb_sold\"].sum()\n",
        "\n",
        "# Create a bar plot of the number of avocados sold by size\n",
        "nb_sold_by_size.plot(kind=\"bar\")\n",
        "plt.ylabel(\"Number Sold\")\n",
        "# Show the plot\n",
        "plt.show()"
      ],
      "execution_count": 4,
      "outputs": [
        {
          "output_type": "stream",
          "name": "stdout",
          "text": [
            "         date          type  year  avg_price   size     nb_sold\n",
            "0  2015-12-27  conventional  2015       0.95  small  9626901.09\n",
            "1  2015-12-20  conventional  2015       0.98  small  8710021.76\n",
            "2  2015-12-13  conventional  2015       0.93  small  9855053.66\n",
            "3  2015-12-06  conventional  2015       0.89  small  9405464.36\n",
            "4  2015-11-29  conventional  2015       0.99  small  8094803.56\n"
          ]
        },
        {
          "output_type": "display_data",
          "data": {
            "image/png": "[encoded data removed]",
            "text/plain": [
              "<Figure size 432x288 with 1 Axes>"
            ]
          },
          "metadata": {
            "needs_background": "light"
          }
        }
      ]
    },
    {
      "cell_type": "markdown",
      "metadata": {
        "id": "reUa8RjtVGaf"
      },
      "source": [
        "# **Changes in sales over time (Line Plot)**\n",
        "\n",
        "Line plots are designed to visualize the relationship between two numeric variables, where each data values is connected to the next one. They are especially useful for <ins>***visualizing the change in a number over time***</ins> since each time point is naturally connected to the next time point. \n",
        "\n",
        "* Get the total number of avocados sold on each date. *The DataFrame has two rows for each date -- one for organic, and one for conventional.* Save this as `nb_sold_by_date`.\n",
        "* Create a line plot of the number of avocados sold.\n",
        "* Show the plot"
      ]
    },
    {
      "cell_type": "code",
      "metadata": {
        "colab": {
          "base_uri": "https://localhost:8080/",
          "height": 329
        },
        "id": "3FNqt0oVUfjx",
        "outputId": "5811f5e5-2f3c-4db9-f192-0c9f6dbddff7"
      },
      "source": [
        "import pandas as pd\n",
        "import matplotlib.pyplot as plt\n",
        "\n",
        "avocados = pd.read_pickle(\"avoplotto.pkl\")\n",
        "\n",
        "# Get the total number of avocados sold on each date\n",
        "nb_sold_by_date = avocados.groupby(\"date\")[\"nb_sold\"].sum()\n",
        "\n",
        "# Create a line plot of the number of avocados sold by date\n",
        "nb_sold_by_date.plot(x=\"date\", y=\"nb_sold\", kind=\"line\", rot=45)\n",
        "plt.ylabel(\"Number sold\")\n",
        "plt.show()"
      ],
      "execution_count": 6,
      "outputs": [
        {
          "output_type": "display_data",
          "data": {
            "image/png": "[encoded data removed]",
            "text/plain": [
              "<Figure size 432x288 with 1 Axes>"
            ]
          },
          "metadata": {
            "needs_background": "light"
          }
        }
      ]
    },
    {
      "cell_type": "markdown",
      "metadata": {
        "id": "1ABdg7HgYM7H"
      },
      "source": [
        "# **Avocado supply and demand (Scatter Plot)**\n",
        "\n",
        "Scatter plots are ideal for visualizing relationships between numerical variables. In this exercise, you'll compare the number of avocados sold to average price and see if they're at all related. If they're related, you may be able to use one number to predict the other.\n",
        "\n",
        "* Create a scatter plot with `nb_sold` on the x-axis and `avg_price` on the y-axis. Title it `\"Number of avocados sold vs. average price\"`.\n",
        "* Show the plot."
      ]
    },
    {
      "cell_type": "code",
      "metadata": {
        "colab": {
          "base_uri": "https://localhost:8080/",
          "height": 296
        },
        "id": "EPrGMXZ3XfwY",
        "outputId": "83ef238d-59c4-47c2-d21c-faba780446e3"
      },
      "source": [
        "import pandas as pd\n",
        "import matplotlib.pyplot as plt\n",
        "\n",
        "avocados = pd.read_pickle(\"avoplotto.pkl\")\n",
        "\n",
        "# Scatter plot of nb_sold vs avg_price with title\n",
        "avocados.plot(x=\"nb_sold\", y=\"avg_price\", kind=\"scatter\", title=\"Number of avocados sold vs. average price\")\n",
        "\n",
        "# Show the plot\n",
        "plt.show()"
      ],
      "execution_count": 7,
      "outputs": [
        {
          "output_type": "display_data",
          "data": {
            "image/png": "[encoded data removed]",
            "text/plain": [
              "<Figure size 432x288 with 1 Axes>"
            ]
          },
          "metadata": {
            "needs_background": "light"
          }
        }
      ]
    },
    {
      "cell_type": "markdown",
      "metadata": {
        "id": "aydcwLneZPgn"
      },
      "source": [
        "# **Price of conventional vs. organic avocados** (Histograms)\n",
        "\n",
        "Creating multiple plots for different subsets of data allows you to compare groups. In this exercise, you'll create multiple histograms to compare the prices of conventional and organic avocados.\n",
        "\n",
        "* Subset `avocados` for the conventional type, and the average price column. Create a histogram.\n",
        "* Create a histogram of `avg_price` for organic type avocados.\n",
        "* Add a legend to your plot, with the names \"conventional\" and \"organic\".\n",
        "* Show your plot."
      ]
    },
    {
      "cell_type": "code",
      "metadata": {
        "colab": {
          "base_uri": "https://localhost:8080/",
          "height": 268
        },
        "id": "EzeTDEcaY4KD",
        "outputId": "ff2a68e5-6146-45f8-9dd1-162dcf3b4e88"
      },
      "source": [
        "import pandas as pd\n",
        "import matplotlib.pyplot as plt\n",
        "\n",
        "avocados = pd.read_pickle(\"avoplotto.pkl\")\n",
        "\n",
        "# Histogram of conventional avg_price \n",
        "avocados[avocados[\"type\"]==\"conventional\"][\"avg_price\"].hist(alpha=0.5, bins=20)\n",
        "\n",
        "# Histogram of organic avg_price\n",
        "avocados[avocados[\"type\"]==\"organic\"][\"avg_price\"].hist(alpha=0.5, bins=20)\n",
        "\n",
        "# Add a legend\n",
        "plt.legend([\"conventional\", \"organic\"])\n",
        "\n",
        "# Show the plot\n",
        "plt.show()"
      ],
      "execution_count": 10,
      "outputs": [
        {
          "output_type": "display_data",
          "data": {
            "image/png": "[encoded data removed]",
            "text/plain": [
              "<Figure size 432x288 with 1 Axes>"
            ]
          },
          "metadata": {
            "needs_background": "light"
          }
        }
      ]
    },
    {
      "cell_type": "markdown",
      "metadata": {
        "id": "oFvmipSig3_K"
      },
      "source": [
        "# **Finding missing values**\n",
        "\n",
        "Determine if there are missing values in the dataset, and if so, how many.\n",
        "\n",
        "* Print a DataFrame that shows whether each value in `avocados_2016` is missing or not.\n",
        "* Print a summary that shows whether any value in each column is missing or not.\n",
        "* Create a bar plot of the total number of missing values in each column."
      ]
    },
    {
      "cell_type": "code",
      "metadata": {
        "colab": {
          "base_uri": "https://localhost:8080/",
          "height": 762
        },
        "id": "JaNEKlYgaYnU",
        "outputId": "9f1801bc-6e69-4774-8e37-a839b4924132"
      },
      "source": [
        "import pandas as pd\n",
        "import matplotlib.pyplot as plt\n",
        "\n",
        "avocados_2016 = pd.read_csv(\"avocados_2016.csv\", index_col=[0])\n",
        "\n",
        "# Check individual values for missing values\n",
        "print(avocados_2016.isna().head(), \"\\n\\n\\n\")\n",
        "\n",
        "# Check each column for missing values\n",
        "print(avocados_2016.isna().any(), \"\\n\\n\\n\")\n",
        "\n",
        "# Bar plot of missing values by variable\n",
        "avocados_2016.isna().sum().plot(kind=\"bar\")\n",
        "\n",
        "# Show plot\n",
        "plt.show()"
      ],
      "execution_count": 23,
      "outputs": [
        {
          "output_type": "stream",
          "name": "stdout",
          "text": [
            "    date  avg_price  total_sold  ...  small_bags_sold  large_bags_sold  xl_bags_sold\n",
            "0  False      False       False  ...            False            False         False\n",
            "1  False      False       False  ...            False            False         False\n",
            "2  False      False       False  ...            False            False         False\n",
            "3  False      False       False  ...            False            False         False\n",
            "4  False      False       False  ...            False            False         False\n",
            "\n",
            "[5 rows x 10 columns] \n",
            "\n",
            "\n",
            "\n",
            "date               False\n",
            "avg_price          False\n",
            "total_sold         False\n",
            "small_sold          True\n",
            "large_sold          True\n",
            "xl_sold             True\n",
            "total_bags_sold    False\n",
            "small_bags_sold    False\n",
            "large_bags_sold    False\n",
            "xl_bags_sold       False\n",
            "dtype: bool \n",
            "\n",
            "\n",
            "\n"
          ]
        },
        {
          "output_type": "display_data",
          "data": {
            "image/png": "[encoded data removed]",
            "text/plain": [
              "<Figure size 432x288 with 1 Axes>"
            ]
          },
          "metadata": {
            "needs_background": "light"
          }
        }
      ]
    },
    {
      "cell_type": "markdown",
      "metadata": {
        "id": "bnNLDzdBktai"
      },
      "source": [
        "# **Removing missing values**\n",
        "\n",
        "Now that you know there are some missing values in your DataFrame, you have a few options to deal with them. One way is to remove them from the dataset completely. In this exercise, you'll remove missing values by removing all rows that contain missing values.\n",
        "\n",
        "* Remove the rows of `avocados_2016` that contain missing values and store the remaining rows in `avocados_complete`.\n",
        "* Verify that all missing values have been removed from `avocados_complete`. Calculate each column that has NAs and print."
      ]
    },
    {
      "cell_type": "code",
      "metadata": {
        "colab": {
          "base_uri": "https://localhost:8080/"
        },
        "id": "VbSEf_fqiJRz",
        "outputId": "47294dc9-9320-41cc-ae53-67bf07c3e1f2"
      },
      "source": [
        "import pandas as pd\n",
        "import matplotlib.pyplot as plt\n",
        "\n",
        "avocados_2016 = pd.read_csv(\"avocados_2016.csv\", index_col=[0])\n",
        "\n",
        "# Remove rows with missing values\n",
        "avocados_complete = avocados_2016.dropna()\n",
        "\n",
        "# Check if any columns contain missing values\n",
        "print(avocados_complete.isna().any())"
      ],
      "execution_count": 24,
      "outputs": [
        {
          "output_type": "stream",
          "name": "stdout",
          "text": [
            "date               False\n",
            "avg_price          False\n",
            "total_sold         False\n",
            "small_sold         False\n",
            "large_sold         False\n",
            "xl_sold            False\n",
            "total_bags_sold    False\n",
            "small_bags_sold    False\n",
            "large_bags_sold    False\n",
            "xl_bags_sold       False\n",
            "dtype: bool\n"
          ]
        }
      ]
    },
    {
      "cell_type": "markdown",
      "metadata": {
        "id": "jnvmXlX8ld8I"
      },
      "source": [
        "# **Replacing missing values**\n",
        "\n",
        "Another way of handling missing values is to replace them all with the same value. For numerical variables, one option is to replace values with `0`— you'll do this here. However, when you replace missing values, you make assumptions about what a missing value means. In this case, you will assume that a missing number sold means that no sales for that avocado type were made that week.\n",
        "\n",
        "In this exercise, you'll see how replacing missing values can affect the distribution of a variable using histograms. You can plot histograms for multiple variables at a time as follows:\n",
        "\n",
        "```\n",
        "dogs[[\"height_cm\", \"weight_kg\"]].hist()\n",
        "```\n",
        "\n",
        "* A list has been created, `cols_with_missing`, containing the names of columns with missing values: `\"small_sold\"`, `\"large_sold\"`, and `\"xl_sold\"`.\n",
        "* Create a histogram of those columns.\n",
        "* Show the plot."
      ]
    },
    {
      "cell_type": "code",
      "metadata": {
        "colab": {
          "base_uri": "https://localhost:8080/",
          "height": 294
        },
        "id": "96pEJEWrileo",
        "outputId": "4abcdf78-4a0e-42cb-97eb-c4100fdc529a"
      },
      "source": [
        "import pandas as pd\n",
        "import matplotlib.pyplot as plt\n",
        "\n",
        "avocados_2016 = pd.read_csv(\"avocados_2016.csv\", index_col=[0])\n",
        "\n",
        "# List the columns with missing values\n",
        "cols_with_missing = [\"small_sold\", \"large_sold\", \"xl_sold\"]\n",
        "\n",
        "# Create histograms showing the distributions cols_with_missing\n",
        "avocados_2016[cols_with_missing].hist()\n",
        "\n",
        "# Show the plot\n",
        "plt.show()"
      ],
      "execution_count": 29,
      "outputs": [
        {
          "output_type": "display_data",
          "data": {
            "image/png": "[encoded data removed]",
            "text/plain": [
              "<Figure size 432x288 with 4 Axes>"
            ]
          },
          "metadata": {
            "needs_background": "light"
          }
        }
      ]
    },
    {
      "cell_type": "markdown",
      "metadata": {
        "id": "PC7UsUtdmSne"
      },
      "source": [
        "* Replace the missing values of `avocados_2016` with `0`s and store the result as `avocados_filled`.\n",
        "* Create a histogram of the `cols_with_missing` columns of `avocados_filled`."
      ]
    },
    {
      "cell_type": "code",
      "metadata": {
        "colab": {
          "base_uri": "https://localhost:8080/",
          "height": 294
        },
        "id": "4CANXBWbmP_Y",
        "outputId": "7ce2b9bd-fbbc-4cb3-a6d1-2a478950cf87"
      },
      "source": [
        "import pandas as pd\n",
        "import matplotlib.pyplot as plt\n",
        "\n",
        "avocados_2016 = pd.read_csv(\"avocados_2016.csv\", index_col=[0])\n",
        "\n",
        "# Fill in missing values with 0\n",
        "avocados_filled = avocados_2016.fillna(0)\n",
        "\n",
        "# Create histograms of the filled columns\n",
        "avocados_filled[cols_with_missing].hist()\n",
        "\n",
        "# Show the plot\n",
        "plt.show()"
      ],
      "execution_count": 26,
      "outputs": [
        {
          "output_type": "display_data",
          "data": {
            "image/png": "[encoded data removed]",
            "text/plain": [
              "<Figure size 432x288 with 4 Axes>"
            ]
          },
          "metadata": {
            "needs_background": "light"
          }
        }
      ]
    },
    {
      "cell_type": "markdown",
      "metadata": {
        "id": "r2iggdbCpPup"
      },
      "source": [
        "# **List of dictionaries**\n",
        "\n",
        "\n",
        "```\n",
        "date\t        small_sold\tlarge_sold\n",
        "\"2019-11-03\"\t10376832\t    7835071\n",
        "\"2019-11-10\"\t10717154\t    8561348\n",
        "```\n",
        "\n",
        "* Create a list of dictionaries with the new data called `avocados_list`.\n",
        "* Convert the list into a DataFrame called `avocados_2019`.\n",
        "Print your new DataFrame."
      ]
    },
    {
      "cell_type": "code",
      "metadata": {
        "colab": {
          "base_uri": "https://localhost:8080/"
        },
        "id": "z1u1RbU5m9DV",
        "outputId": "cc4d7b16-0907-406a-c84a-0be70a930f3e"
      },
      "source": [
        "import pandas as pd\n",
        "\n",
        "# Create a list of dictionaries with new data\n",
        "avocados_list = [\n",
        "    {\"date\": \"2019-11-03\", \"small_sold\": 10376832, \"large_sold\": \t7835071},\n",
        "    {\"date\": \"2019-11-10\", \"small_sold\": 10717154, \"large_sold\": \t8561348},\n",
        "]\n",
        "\n",
        "# Convert list into DataFrame\n",
        "avocados_2019 = pd.DataFrame(avocados_list)\n",
        "\n",
        "# Print the new DataFrame\n",
        "print(avocados_2019)"
      ],
      "execution_count": 30,
      "outputs": [
        {
          "output_type": "stream",
          "name": "stdout",
          "text": [
            "         date  small_sold  large_sold\n",
            "0  2019-11-03    10376832     7835071\n",
            "1  2019-11-10    10717154     8561348\n"
          ]
        }
      ]
    },
    {
      "cell_type": "markdown",
      "metadata": {
        "id": "zxYa3l7LqaTO"
      },
      "source": [
        "# **Dictionary of lists**\n",
        "\n",
        "\n",
        "```\n",
        "date\t        small_sold\tlarge_sold\n",
        "\"2019-11-17\"\t10859987\t   7674135\n",
        "\"2019-12-01\"\t9291631\t     6238096\n",
        "```\n",
        "\n",
        "* Create a dictionary of lists with the new data called `avocados_dict`.\n",
        "* Convert the dictionary to a DataFrame called `avocados_2019`.\n",
        "* Print your new DataFrame."
      ]
    },
    {
      "cell_type": "code",
      "metadata": {
        "colab": {
          "base_uri": "https://localhost:8080/"
        },
        "id": "F-LvewqiqToq",
        "outputId": "11327788-fd5f-45b7-c630-23917728b9fc"
      },
      "source": [
        "import pandas as pd\n",
        "\n",
        "# Create a dictionary of lists with new data\n",
        "avocados_dict = {\n",
        "  \"date\": [\"2019-11-17\", \"2019-12-01\"],\n",
        "  \"small_sold\": [10859987, 9291631],\n",
        "  \"large_sold\": [7674135, 6238096]\n",
        "}\n",
        "\n",
        "# Convert dictionary into DataFrame\n",
        "avocados_2019 = pd.DataFrame(avocados_dict)\n",
        "\n",
        "# Print the new DataFrame\n",
        "print(avocados_2019)"
      ],
      "execution_count": 31,
      "outputs": [
        {
          "output_type": "stream",
          "name": "stdout",
          "text": [
            "         date  small_sold  large_sold\n",
            "0  2019-11-17    10859987     7674135\n",
            "1  2019-12-01     9291631     6238096\n"
          ]
        }
      ]
    },
    {
      "cell_type": "markdown",
      "metadata": {
        "id": "RNj9dafjvE-4"
      },
      "source": [
        "# **CSV to DataFrame**\n",
        "\n",
        "You work for an airline, and your manager has asked you to do a competitive analysis and see how often passengers flying on other airlines are involuntarily bumped from their flights. You got a CSV file (airline_bumping.csv) from the Department of Transportation containing data on passengers that were involuntarily denied boarding in 2016 and 2017, but it doesn't have the exact numbers you want. In order to figure this out, you'll need to get the CSV into a pandas DataFrame and do some manipulation!\n",
        "\n",
        "\n",
        "* Read the CSV file `\"airline_bumping.csv\"` and store it as a DataFrame called `airline_bumping`.\n",
        "* Print the first few rows of `airline_bumping`.\n",
        "* For each airline group, select the `nb_bumped`, and `total_passengers` columns, and calculate the sum (for both years). Store this as `airline_totals`.\n",
        "* Create a new column of `airline_totals` called `bumps_per_10k`, which is the number of passengers bumped per `10,000` passengers in 2016 and 2017.\n",
        "* Print `airline_totals` to see the results of your manipulations."
      ]
    },
    {
      "cell_type": "code",
      "metadata": {
        "colab": {
          "base_uri": "https://localhost:8080/"
        },
        "id": "A35QdvAxrPn_",
        "outputId": "7f1417be-9131-4d7a-e945-229ecfe5c4a5"
      },
      "source": [
        "import pandas as pd\n",
        "\n",
        "airline_bumping = pd.read_csv(\"airline_bumping.csv\", index_col=[0])\n",
        "print(airline_bumping.head(), \"\\n\\n\\n\")\n",
        "airline_totals = airline_bumping.groupby(\"airline\")[[\"nb_bumped\", \"total_passengers\"]].sum()\n",
        "print(airline_totals,\"\\n\\n\\n\")\n",
        "airline_totals[\"bumps_per_10k\"] = airline_totals[\"nb_bumped\"] / airline_totals[\"total_passengers\"] * 10000\n",
        "print(airline_totals)"
      ],
      "execution_count": 33,
      "outputs": [
        {
          "output_type": "stream",
          "name": "stdout",
          "text": [
            "             airline  year  nb_bumped  total_passengers\n",
            "0    DELTA AIR LINES  2017        679          99796155\n",
            "1     VIRGIN AMERICA  2017        165           6090029\n",
            "2    JETBLUE AIRWAYS  2017       1475          27255038\n",
            "3    UNITED AIRLINES  2017       2067          70030765\n",
            "4  HAWAIIAN AIRLINES  2017         92           8422734 \n",
            "\n",
            "\n",
            "\n",
            "                     nb_bumped  total_passengers\n",
            "airline                                         \n",
            "ALASKA AIRLINES           1392          36543121\n",
            "AMERICAN AIRLINES        11115         197365225\n",
            "DELTA AIR LINES           1591         197033215\n",
            "EXPRESSJET AIRLINES       3326          27858678\n",
            "FRONTIER AIRLINES         1228          22954995\n",
            "HAWAIIAN AIRLINES          122          16577572\n",
            "JETBLUE AIRWAYS           3615          53245866\n",
            "SKYWEST AIRLINES          3094          47091737\n",
            "SOUTHWEST AIRLINES       18585         228142036\n",
            "SPIRIT AIRLINES           2920          32304571\n",
            "UNITED AIRLINES           4941         134468897\n",
            "VIRGIN AMERICA             242          12017967 \n",
            "\n",
            "\n",
            "\n",
            "                     nb_bumped  total_passengers  bumps_per_10k\n",
            "airline                                                        \n",
            "ALASKA AIRLINES           1392          36543121       0.380920\n",
            "AMERICAN AIRLINES        11115         197365225       0.563169\n",
            "DELTA AIR LINES           1591         197033215       0.080748\n",
            "EXPRESSJET AIRLINES       3326          27858678       1.193883\n",
            "FRONTIER AIRLINES         1228          22954995       0.534960\n",
            "HAWAIIAN AIRLINES          122          16577572       0.073593\n",
            "JETBLUE AIRWAYS           3615          53245866       0.678926\n",
            "SKYWEST AIRLINES          3094          47091737       0.657015\n",
            "SOUTHWEST AIRLINES       18585         228142036       0.814624\n",
            "SPIRIT AIRLINES           2920          32304571       0.903897\n",
            "UNITED AIRLINES           4941         134468897       0.367446\n",
            "VIRGIN AMERICA             242          12017967       0.201365\n"
          ]
        }
      ]
    },
    {
      "cell_type": "markdown",
      "metadata": {
        "id": "HbRRC4tNyBVB"
      },
      "source": [
        "# **DataFrame to CSV**\n",
        "\n",
        "* Sort `airline_totals` by the values of `bumps_per_10k` from highest to lowest, storing as `airline_totals_sorted`.\n",
        "* Print your sorted DataFrame.\n",
        "* Save the sorted DataFrame as a CSV called `\"airline_totals_sorted.csv\"`."
      ]
    },
    {
      "cell_type": "code",
      "metadata": {
        "colab": {
          "base_uri": "https://localhost:8080/"
        },
        "id": "YIByCjoxx3h-",
        "outputId": "4b7be7b3-54b1-4dbd-ff84-7cfb33d6b4ba"
      },
      "source": [
        "import pandas as pd\n",
        "\n",
        "airline_bumping = pd.read_csv(\"airline_bumping.csv\", index_col=[0])\n",
        "airline_totals = airline_bumping.groupby(\"airline\")[[\"nb_bumped\", \"total_passengers\"]].sum()\n",
        "airline_totals[\"bumps_per_10k\"] = airline_totals[\"nb_bumped\"] / airline_totals[\"total_passengers\"] * 10000\n",
        "\n",
        "# Create airline_totals_sorted\n",
        "airline_totals_sorted = airline_totals.sort_values(by=\"bumps_per_10k\", ascending=False)\n",
        "\n",
        "# Print airline_totals_sorted\n",
        "print(airline_totals_sorted)\n",
        "\n",
        "# Save as airline_totals_sorted.csv\n",
        "airline_totals_sorted.to_csv(\"airline_totals_sorted.csv\")"
      ],
      "execution_count": 34,
      "outputs": [
        {
          "output_type": "stream",
          "name": "stdout",
          "text": [
            "                     nb_bumped  total_passengers  bumps_per_10k\n",
            "airline                                                        \n",
            "EXPRESSJET AIRLINES       3326          27858678       1.193883\n",
            "SPIRIT AIRLINES           2920          32304571       0.903897\n",
            "SOUTHWEST AIRLINES       18585         228142036       0.814624\n",
            "JETBLUE AIRWAYS           3615          53245866       0.678926\n",
            "SKYWEST AIRLINES          3094          47091737       0.657015\n",
            "AMERICAN AIRLINES        11115         197365225       0.563169\n",
            "FRONTIER AIRLINES         1228          22954995       0.534960\n",
            "ALASKA AIRLINES           1392          36543121       0.380920\n",
            "UNITED AIRLINES           4941         134468897       0.367446\n",
            "VIRGIN AMERICA             242          12017967       0.201365\n",
            "DELTA AIR LINES           1591         197033215       0.080748\n",
            "HAWAIIAN AIRLINES          122          16577572       0.073593\n"
          ]
        }
      ]
    }
  ]
}